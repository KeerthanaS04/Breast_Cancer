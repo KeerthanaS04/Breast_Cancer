{
 "cells": [
  {
   "cell_type": "code",
   "execution_count": 1,
   "id": "fe7e0627",
   "metadata": {
    "_cell_guid": "b1076dfc-b9ad-4769-8c92-a6c4dae69d19",
    "_uuid": "8f2839f25d086af736a60e9eeb907d3b93b6e0e5",
    "execution": {
     "iopub.execute_input": "2023-02-01T14:05:03.939021Z",
     "iopub.status.busy": "2023-02-01T14:05:03.938491Z",
     "iopub.status.idle": "2023-02-01T14:05:05.154933Z",
     "shell.execute_reply": "2023-02-01T14:05:05.153927Z"
    },
    "papermill": {
     "duration": 1.234491,
     "end_time": "2023-02-01T14:05:05.157822",
     "exception": false,
     "start_time": "2023-02-01T14:05:03.923331",
     "status": "completed"
    },
    "tags": []
   },
   "outputs": [],
   "source": [
    "#importing basic libraries\n",
    "import pandas as pd\n",
    "import numpy as np\n",
    "import matplotlib.pyplot as plt\n",
    "import seaborn as sns\n",
    "%matplotlib inline"
   ]
  },
  {
   "cell_type": "code",
   "execution_count": 2,
   "id": "b7d46868",
   "metadata": {
    "execution": {
     "iopub.execute_input": "2023-02-01T14:05:05.182632Z",
     "iopub.status.busy": "2023-02-01T14:05:05.181509Z",
     "iopub.status.idle": "2023-02-01T14:05:05.203196Z",
     "shell.execute_reply": "2023-02-01T14:05:05.201933Z"
    },
    "papermill": {
     "duration": 0.036526,
     "end_time": "2023-02-01T14:05:05.205878",
     "exception": false,
     "start_time": "2023-02-01T14:05:05.169352",
     "status": "completed"
    },
    "tags": []
   },
   "outputs": [],
   "source": [
    "#loading the dataset\n",
    "df_train=pd.read_csv('/kaggle/input/tfug-prayagraj-breast-cancer-diagnostic/train.csv')"
   ]
  },
  {
   "cell_type": "code",
   "execution_count": 3,
   "id": "c5860803",
   "metadata": {
    "execution": {
     "iopub.execute_input": "2023-02-01T14:05:05.229666Z",
     "iopub.status.busy": "2023-02-01T14:05:05.229216Z",
     "iopub.status.idle": "2023-02-01T14:05:05.271146Z",
     "shell.execute_reply": "2023-02-01T14:05:05.269850Z"
    },
    "papermill": {
     "duration": 0.057669,
     "end_time": "2023-02-01T14:05:05.274444",
     "exception": false,
     "start_time": "2023-02-01T14:05:05.216775",
     "status": "completed"
    },
    "tags": []
   },
   "outputs": [
    {
     "data": {
      "text/html": [
       "<div>\n",
       "<style scoped>\n",
       "    .dataframe tbody tr th:only-of-type {\n",
       "        vertical-align: middle;\n",
       "    }\n",
       "\n",
       "    .dataframe tbody tr th {\n",
       "        vertical-align: top;\n",
       "    }\n",
       "\n",
       "    .dataframe thead th {\n",
       "        text-align: right;\n",
       "    }\n",
       "</style>\n",
       "<table border=\"1\" class=\"dataframe\">\n",
       "  <thead>\n",
       "    <tr style=\"text-align: right;\">\n",
       "      <th></th>\n",
       "      <th>id</th>\n",
       "      <th>diagnosis</th>\n",
       "      <th>radius_mean</th>\n",
       "      <th>texture_mean</th>\n",
       "      <th>perimeter_mean</th>\n",
       "      <th>area_mean</th>\n",
       "      <th>smoothness_mean</th>\n",
       "      <th>compactness_mean</th>\n",
       "      <th>concavity_mean</th>\n",
       "      <th>concave points_mean</th>\n",
       "      <th>...</th>\n",
       "      <th>radius_worst</th>\n",
       "      <th>texture_worst</th>\n",
       "      <th>perimeter_worst</th>\n",
       "      <th>area_worst</th>\n",
       "      <th>smoothness_worst</th>\n",
       "      <th>compactness_worst</th>\n",
       "      <th>concavity_worst</th>\n",
       "      <th>concave points_worst</th>\n",
       "      <th>symmetry_worst</th>\n",
       "      <th>fractal_dimension_worst</th>\n",
       "    </tr>\n",
       "  </thead>\n",
       "  <tbody>\n",
       "    <tr>\n",
       "      <th>0</th>\n",
       "      <td>842302</td>\n",
       "      <td>M</td>\n",
       "      <td>17.99</td>\n",
       "      <td>10.38</td>\n",
       "      <td>122.80</td>\n",
       "      <td>1001.0</td>\n",
       "      <td>0.11840</td>\n",
       "      <td>0.27760</td>\n",
       "      <td>0.3001</td>\n",
       "      <td>0.14710</td>\n",
       "      <td>...</td>\n",
       "      <td>25.38</td>\n",
       "      <td>17.33</td>\n",
       "      <td>184.60</td>\n",
       "      <td>2019.0</td>\n",
       "      <td>0.1622</td>\n",
       "      <td>0.6656</td>\n",
       "      <td>0.7119</td>\n",
       "      <td>0.2654</td>\n",
       "      <td>0.4601</td>\n",
       "      <td>0.11890</td>\n",
       "    </tr>\n",
       "    <tr>\n",
       "      <th>1</th>\n",
       "      <td>842517</td>\n",
       "      <td>M</td>\n",
       "      <td>20.57</td>\n",
       "      <td>17.77</td>\n",
       "      <td>132.90</td>\n",
       "      <td>1326.0</td>\n",
       "      <td>0.08474</td>\n",
       "      <td>0.07864</td>\n",
       "      <td>0.0869</td>\n",
       "      <td>0.07017</td>\n",
       "      <td>...</td>\n",
       "      <td>24.99</td>\n",
       "      <td>23.41</td>\n",
       "      <td>158.80</td>\n",
       "      <td>1956.0</td>\n",
       "      <td>0.1238</td>\n",
       "      <td>0.1866</td>\n",
       "      <td>0.2416</td>\n",
       "      <td>0.1860</td>\n",
       "      <td>0.2750</td>\n",
       "      <td>0.08902</td>\n",
       "    </tr>\n",
       "    <tr>\n",
       "      <th>2</th>\n",
       "      <td>84300903</td>\n",
       "      <td>M</td>\n",
       "      <td>19.69</td>\n",
       "      <td>21.25</td>\n",
       "      <td>130.00</td>\n",
       "      <td>1203.0</td>\n",
       "      <td>0.10960</td>\n",
       "      <td>0.15990</td>\n",
       "      <td>0.1974</td>\n",
       "      <td>0.12790</td>\n",
       "      <td>...</td>\n",
       "      <td>23.57</td>\n",
       "      <td>25.53</td>\n",
       "      <td>152.50</td>\n",
       "      <td>1709.0</td>\n",
       "      <td>0.1444</td>\n",
       "      <td>0.4245</td>\n",
       "      <td>0.4504</td>\n",
       "      <td>0.2430</td>\n",
       "      <td>0.3613</td>\n",
       "      <td>0.08758</td>\n",
       "    </tr>\n",
       "    <tr>\n",
       "      <th>3</th>\n",
       "      <td>84348301</td>\n",
       "      <td>M</td>\n",
       "      <td>11.42</td>\n",
       "      <td>20.38</td>\n",
       "      <td>77.58</td>\n",
       "      <td>386.1</td>\n",
       "      <td>0.14250</td>\n",
       "      <td>0.28390</td>\n",
       "      <td>0.2414</td>\n",
       "      <td>0.10520</td>\n",
       "      <td>...</td>\n",
       "      <td>14.91</td>\n",
       "      <td>26.50</td>\n",
       "      <td>98.87</td>\n",
       "      <td>567.7</td>\n",
       "      <td>0.2098</td>\n",
       "      <td>0.8663</td>\n",
       "      <td>0.6869</td>\n",
       "      <td>0.2575</td>\n",
       "      <td>0.6638</td>\n",
       "      <td>0.17300</td>\n",
       "    </tr>\n",
       "    <tr>\n",
       "      <th>4</th>\n",
       "      <td>84358402</td>\n",
       "      <td>M</td>\n",
       "      <td>20.29</td>\n",
       "      <td>14.34</td>\n",
       "      <td>135.10</td>\n",
       "      <td>1297.0</td>\n",
       "      <td>0.10030</td>\n",
       "      <td>0.13280</td>\n",
       "      <td>0.1980</td>\n",
       "      <td>0.10430</td>\n",
       "      <td>...</td>\n",
       "      <td>22.54</td>\n",
       "      <td>16.67</td>\n",
       "      <td>152.20</td>\n",
       "      <td>1575.0</td>\n",
       "      <td>0.1374</td>\n",
       "      <td>0.2050</td>\n",
       "      <td>0.4000</td>\n",
       "      <td>0.1625</td>\n",
       "      <td>0.2364</td>\n",
       "      <td>0.07678</td>\n",
       "    </tr>\n",
       "  </tbody>\n",
       "</table>\n",
       "<p>5 rows × 32 columns</p>\n",
       "</div>"
      ],
      "text/plain": [
       "         id diagnosis  radius_mean  texture_mean  perimeter_mean  area_mean  \\\n",
       "0    842302         M        17.99         10.38          122.80     1001.0   \n",
       "1    842517         M        20.57         17.77          132.90     1326.0   \n",
       "2  84300903         M        19.69         21.25          130.00     1203.0   \n",
       "3  84348301         M        11.42         20.38           77.58      386.1   \n",
       "4  84358402         M        20.29         14.34          135.10     1297.0   \n",
       "\n",
       "   smoothness_mean  compactness_mean  concavity_mean  concave points_mean  \\\n",
       "0          0.11840           0.27760          0.3001              0.14710   \n",
       "1          0.08474           0.07864          0.0869              0.07017   \n",
       "2          0.10960           0.15990          0.1974              0.12790   \n",
       "3          0.14250           0.28390          0.2414              0.10520   \n",
       "4          0.10030           0.13280          0.1980              0.10430   \n",
       "\n",
       "   ...  radius_worst  texture_worst  perimeter_worst  area_worst  \\\n",
       "0  ...         25.38          17.33           184.60      2019.0   \n",
       "1  ...         24.99          23.41           158.80      1956.0   \n",
       "2  ...         23.57          25.53           152.50      1709.0   \n",
       "3  ...         14.91          26.50            98.87       567.7   \n",
       "4  ...         22.54          16.67           152.20      1575.0   \n",
       "\n",
       "   smoothness_worst  compactness_worst  concavity_worst  concave points_worst  \\\n",
       "0            0.1622             0.6656           0.7119                0.2654   \n",
       "1            0.1238             0.1866           0.2416                0.1860   \n",
       "2            0.1444             0.4245           0.4504                0.2430   \n",
       "3            0.2098             0.8663           0.6869                0.2575   \n",
       "4            0.1374             0.2050           0.4000                0.1625   \n",
       "\n",
       "   symmetry_worst  fractal_dimension_worst  \n",
       "0          0.4601                  0.11890  \n",
       "1          0.2750                  0.08902  \n",
       "2          0.3613                  0.08758  \n",
       "3          0.6638                  0.17300  \n",
       "4          0.2364                  0.07678  \n",
       "\n",
       "[5 rows x 32 columns]"
      ]
     },
     "execution_count": 3,
     "metadata": {},
     "output_type": "execute_result"
    }
   ],
   "source": [
    "df_train.head()"
   ]
  },
  {
   "cell_type": "code",
   "execution_count": 4,
   "id": "da4feca8",
   "metadata": {
    "execution": {
     "iopub.execute_input": "2023-02-01T14:05:05.300568Z",
     "iopub.status.busy": "2023-02-01T14:05:05.300140Z",
     "iopub.status.idle": "2023-02-01T14:05:05.327182Z",
     "shell.execute_reply": "2023-02-01T14:05:05.326224Z"
    },
    "papermill": {
     "duration": 0.042044,
     "end_time": "2023-02-01T14:05:05.329466",
     "exception": false,
     "start_time": "2023-02-01T14:05:05.287422",
     "status": "completed"
    },
    "tags": []
   },
   "outputs": [
    {
     "data": {
      "text/html": [
       "<div>\n",
       "<style scoped>\n",
       "    .dataframe tbody tr th:only-of-type {\n",
       "        vertical-align: middle;\n",
       "    }\n",
       "\n",
       "    .dataframe tbody tr th {\n",
       "        vertical-align: top;\n",
       "    }\n",
       "\n",
       "    .dataframe thead th {\n",
       "        text-align: right;\n",
       "    }\n",
       "</style>\n",
       "<table border=\"1\" class=\"dataframe\">\n",
       "  <thead>\n",
       "    <tr style=\"text-align: right;\">\n",
       "      <th></th>\n",
       "      <th>id</th>\n",
       "      <th>diagnosis</th>\n",
       "      <th>radius_mean</th>\n",
       "      <th>texture_mean</th>\n",
       "      <th>perimeter_mean</th>\n",
       "      <th>area_mean</th>\n",
       "      <th>smoothness_mean</th>\n",
       "      <th>compactness_mean</th>\n",
       "      <th>concavity_mean</th>\n",
       "      <th>concave points_mean</th>\n",
       "      <th>...</th>\n",
       "      <th>radius_worst</th>\n",
       "      <th>texture_worst</th>\n",
       "      <th>perimeter_worst</th>\n",
       "      <th>area_worst</th>\n",
       "      <th>smoothness_worst</th>\n",
       "      <th>compactness_worst</th>\n",
       "      <th>concavity_worst</th>\n",
       "      <th>concave points_worst</th>\n",
       "      <th>symmetry_worst</th>\n",
       "      <th>fractal_dimension_worst</th>\n",
       "    </tr>\n",
       "  </thead>\n",
       "  <tbody>\n",
       "    <tr>\n",
       "      <th>384</th>\n",
       "      <td>902727</td>\n",
       "      <td>B</td>\n",
       "      <td>13.28</td>\n",
       "      <td>13.72</td>\n",
       "      <td>85.79</td>\n",
       "      <td>541.8</td>\n",
       "      <td>0.08363</td>\n",
       "      <td>0.08575</td>\n",
       "      <td>0.05077</td>\n",
       "      <td>0.028640</td>\n",
       "      <td>...</td>\n",
       "      <td>14.24</td>\n",
       "      <td>17.37</td>\n",
       "      <td>96.59</td>\n",
       "      <td>623.7</td>\n",
       "      <td>0.11660</td>\n",
       "      <td>0.2685</td>\n",
       "      <td>0.2866</td>\n",
       "      <td>0.09173</td>\n",
       "      <td>0.2736</td>\n",
       "      <td>0.07320</td>\n",
       "    </tr>\n",
       "    <tr>\n",
       "      <th>385</th>\n",
       "      <td>90291</td>\n",
       "      <td>M</td>\n",
       "      <td>14.60</td>\n",
       "      <td>23.29</td>\n",
       "      <td>93.97</td>\n",
       "      <td>664.7</td>\n",
       "      <td>0.08682</td>\n",
       "      <td>0.06636</td>\n",
       "      <td>0.08390</td>\n",
       "      <td>0.052710</td>\n",
       "      <td>...</td>\n",
       "      <td>15.79</td>\n",
       "      <td>31.71</td>\n",
       "      <td>102.20</td>\n",
       "      <td>758.2</td>\n",
       "      <td>0.13120</td>\n",
       "      <td>0.1581</td>\n",
       "      <td>0.2675</td>\n",
       "      <td>0.13590</td>\n",
       "      <td>0.2477</td>\n",
       "      <td>0.06836</td>\n",
       "    </tr>\n",
       "    <tr>\n",
       "      <th>386</th>\n",
       "      <td>902975</td>\n",
       "      <td>B</td>\n",
       "      <td>12.21</td>\n",
       "      <td>14.09</td>\n",
       "      <td>78.78</td>\n",
       "      <td>462.0</td>\n",
       "      <td>0.08108</td>\n",
       "      <td>0.07823</td>\n",
       "      <td>0.06839</td>\n",
       "      <td>0.025340</td>\n",
       "      <td>...</td>\n",
       "      <td>13.13</td>\n",
       "      <td>19.29</td>\n",
       "      <td>87.65</td>\n",
       "      <td>529.9</td>\n",
       "      <td>0.10260</td>\n",
       "      <td>0.2431</td>\n",
       "      <td>0.3076</td>\n",
       "      <td>0.09140</td>\n",
       "      <td>0.2677</td>\n",
       "      <td>0.08824</td>\n",
       "    </tr>\n",
       "    <tr>\n",
       "      <th>387</th>\n",
       "      <td>902976</td>\n",
       "      <td>B</td>\n",
       "      <td>13.88</td>\n",
       "      <td>16.16</td>\n",
       "      <td>88.37</td>\n",
       "      <td>596.6</td>\n",
       "      <td>0.07026</td>\n",
       "      <td>0.04831</td>\n",
       "      <td>0.02045</td>\n",
       "      <td>0.008507</td>\n",
       "      <td>...</td>\n",
       "      <td>15.51</td>\n",
       "      <td>19.97</td>\n",
       "      <td>99.66</td>\n",
       "      <td>745.3</td>\n",
       "      <td>0.08484</td>\n",
       "      <td>0.1233</td>\n",
       "      <td>0.1091</td>\n",
       "      <td>0.04537</td>\n",
       "      <td>0.2542</td>\n",
       "      <td>0.06623</td>\n",
       "    </tr>\n",
       "    <tr>\n",
       "      <th>388</th>\n",
       "      <td>903011</td>\n",
       "      <td>B</td>\n",
       "      <td>11.27</td>\n",
       "      <td>15.50</td>\n",
       "      <td>73.38</td>\n",
       "      <td>392.0</td>\n",
       "      <td>0.08365</td>\n",
       "      <td>0.11140</td>\n",
       "      <td>0.10070</td>\n",
       "      <td>0.027570</td>\n",
       "      <td>...</td>\n",
       "      <td>12.04</td>\n",
       "      <td>18.93</td>\n",
       "      <td>79.73</td>\n",
       "      <td>450.0</td>\n",
       "      <td>0.11020</td>\n",
       "      <td>0.2809</td>\n",
       "      <td>0.3021</td>\n",
       "      <td>0.08272</td>\n",
       "      <td>0.2157</td>\n",
       "      <td>0.10430</td>\n",
       "    </tr>\n",
       "  </tbody>\n",
       "</table>\n",
       "<p>5 rows × 32 columns</p>\n",
       "</div>"
      ],
      "text/plain": [
       "         id diagnosis  radius_mean  texture_mean  perimeter_mean  area_mean  \\\n",
       "384  902727         B        13.28         13.72           85.79      541.8   \n",
       "385   90291         M        14.60         23.29           93.97      664.7   \n",
       "386  902975         B        12.21         14.09           78.78      462.0   \n",
       "387  902976         B        13.88         16.16           88.37      596.6   \n",
       "388  903011         B        11.27         15.50           73.38      392.0   \n",
       "\n",
       "     smoothness_mean  compactness_mean  concavity_mean  concave points_mean  \\\n",
       "384          0.08363           0.08575         0.05077             0.028640   \n",
       "385          0.08682           0.06636         0.08390             0.052710   \n",
       "386          0.08108           0.07823         0.06839             0.025340   \n",
       "387          0.07026           0.04831         0.02045             0.008507   \n",
       "388          0.08365           0.11140         0.10070             0.027570   \n",
       "\n",
       "     ...  radius_worst  texture_worst  perimeter_worst  area_worst  \\\n",
       "384  ...         14.24          17.37            96.59       623.7   \n",
       "385  ...         15.79          31.71           102.20       758.2   \n",
       "386  ...         13.13          19.29            87.65       529.9   \n",
       "387  ...         15.51          19.97            99.66       745.3   \n",
       "388  ...         12.04          18.93            79.73       450.0   \n",
       "\n",
       "     smoothness_worst  compactness_worst  concavity_worst  \\\n",
       "384           0.11660             0.2685           0.2866   \n",
       "385           0.13120             0.1581           0.2675   \n",
       "386           0.10260             0.2431           0.3076   \n",
       "387           0.08484             0.1233           0.1091   \n",
       "388           0.11020             0.2809           0.3021   \n",
       "\n",
       "     concave points_worst  symmetry_worst  fractal_dimension_worst  \n",
       "384               0.09173          0.2736                  0.07320  \n",
       "385               0.13590          0.2477                  0.06836  \n",
       "386               0.09140          0.2677                  0.08824  \n",
       "387               0.04537          0.2542                  0.06623  \n",
       "388               0.08272          0.2157                  0.10430  \n",
       "\n",
       "[5 rows x 32 columns]"
      ]
     },
     "execution_count": 4,
     "metadata": {},
     "output_type": "execute_result"
    }
   ],
   "source": [
    "df_train.tail()"
   ]
  },
  {
   "cell_type": "code",
   "execution_count": 5,
   "id": "393e9edf",
   "metadata": {
    "execution": {
     "iopub.execute_input": "2023-02-01T14:05:05.354846Z",
     "iopub.status.busy": "2023-02-01T14:05:05.354135Z",
     "iopub.status.idle": "2023-02-01T14:05:05.359908Z",
     "shell.execute_reply": "2023-02-01T14:05:05.359126Z"
    },
    "papermill": {
     "duration": 0.020827,
     "end_time": "2023-02-01T14:05:05.361935",
     "exception": false,
     "start_time": "2023-02-01T14:05:05.341108",
     "status": "completed"
    },
    "tags": []
   },
   "outputs": [
    {
     "data": {
      "text/plain": [
       "(389, 32)"
      ]
     },
     "execution_count": 5,
     "metadata": {},
     "output_type": "execute_result"
    }
   ],
   "source": [
    "df_train.shape"
   ]
  },
  {
   "cell_type": "code",
   "execution_count": 6,
   "id": "78bcec75",
   "metadata": {
    "execution": {
     "iopub.execute_input": "2023-02-01T14:05:05.387631Z",
     "iopub.status.busy": "2023-02-01T14:05:05.386889Z",
     "iopub.status.idle": "2023-02-01T14:05:05.414611Z",
     "shell.execute_reply": "2023-02-01T14:05:05.412988Z"
    },
    "papermill": {
     "duration": 0.043723,
     "end_time": "2023-02-01T14:05:05.417575",
     "exception": false,
     "start_time": "2023-02-01T14:05:05.373852",
     "status": "completed"
    },
    "tags": []
   },
   "outputs": [
    {
     "name": "stdout",
     "output_type": "stream",
     "text": [
      "<class 'pandas.core.frame.DataFrame'>\n",
      "RangeIndex: 389 entries, 0 to 388\n",
      "Data columns (total 32 columns):\n",
      " #   Column                   Non-Null Count  Dtype  \n",
      "---  ------                   --------------  -----  \n",
      " 0   id                       389 non-null    int64  \n",
      " 1   diagnosis                389 non-null    object \n",
      " 2   radius_mean              389 non-null    float64\n",
      " 3   texture_mean             389 non-null    float64\n",
      " 4   perimeter_mean           389 non-null    float64\n",
      " 5   area_mean                389 non-null    float64\n",
      " 6   smoothness_mean          389 non-null    float64\n",
      " 7   compactness_mean         389 non-null    float64\n",
      " 8   concavity_mean           389 non-null    float64\n",
      " 9   concave points_mean      389 non-null    float64\n",
      " 10  symmetry_mean            389 non-null    float64\n",
      " 11  fractal_dimension_mean   389 non-null    float64\n",
      " 12  radius_se                389 non-null    float64\n",
      " 13  texture_se               389 non-null    float64\n",
      " 14  perimeter_se             389 non-null    float64\n",
      " 15  area_se                  389 non-null    float64\n",
      " 16  smoothness_se            389 non-null    float64\n",
      " 17  compactness_se           389 non-null    float64\n",
      " 18  concavity_se             389 non-null    float64\n",
      " 19  concave points_se        389 non-null    float64\n",
      " 20  symmetry_se              389 non-null    float64\n",
      " 21  fractal_dimension_se     389 non-null    float64\n",
      " 22  radius_worst             389 non-null    float64\n",
      " 23  texture_worst            389 non-null    float64\n",
      " 24  perimeter_worst          389 non-null    float64\n",
      " 25  area_worst               389 non-null    float64\n",
      " 26  smoothness_worst         389 non-null    float64\n",
      " 27  compactness_worst        389 non-null    float64\n",
      " 28  concavity_worst          389 non-null    float64\n",
      " 29  concave points_worst     389 non-null    float64\n",
      " 30  symmetry_worst           389 non-null    float64\n",
      " 31  fractal_dimension_worst  389 non-null    float64\n",
      "dtypes: float64(30), int64(1), object(1)\n",
      "memory usage: 97.4+ KB\n"
     ]
    }
   ],
   "source": [
    "#concise summary of our dataset\n",
    "df_train.info()"
   ]
  },
  {
   "cell_type": "code",
   "execution_count": 7,
   "id": "971f4aec",
   "metadata": {
    "execution": {
     "iopub.execute_input": "2023-02-01T14:05:05.443228Z",
     "iopub.status.busy": "2023-02-01T14:05:05.442830Z",
     "iopub.status.idle": "2023-02-01T14:05:05.537986Z",
     "shell.execute_reply": "2023-02-01T14:05:05.536704Z"
    },
    "papermill": {
     "duration": 0.111538,
     "end_time": "2023-02-01T14:05:05.541001",
     "exception": false,
     "start_time": "2023-02-01T14:05:05.429463",
     "status": "completed"
    },
    "tags": []
   },
   "outputs": [
    {
     "data": {
      "text/html": [
       "<div>\n",
       "<style scoped>\n",
       "    .dataframe tbody tr th:only-of-type {\n",
       "        vertical-align: middle;\n",
       "    }\n",
       "\n",
       "    .dataframe tbody tr th {\n",
       "        vertical-align: top;\n",
       "    }\n",
       "\n",
       "    .dataframe thead th {\n",
       "        text-align: right;\n",
       "    }\n",
       "</style>\n",
       "<table border=\"1\" class=\"dataframe\">\n",
       "  <thead>\n",
       "    <tr style=\"text-align: right;\">\n",
       "      <th></th>\n",
       "      <th>count</th>\n",
       "      <th>mean</th>\n",
       "      <th>std</th>\n",
       "      <th>min</th>\n",
       "      <th>25%</th>\n",
       "      <th>50%</th>\n",
       "      <th>75%</th>\n",
       "      <th>max</th>\n",
       "    </tr>\n",
       "  </thead>\n",
       "  <tbody>\n",
       "    <tr>\n",
       "      <th>id</th>\n",
       "      <td>389.0</td>\n",
       "      <td>2.703005e+07</td>\n",
       "      <td>1.111087e+08</td>\n",
       "      <td>8670.000000</td>\n",
       "      <td>862965.000000</td>\n",
       "      <td>891703.000000</td>\n",
       "      <td>8.812877e+06</td>\n",
       "      <td>9.010343e+08</td>\n",
       "    </tr>\n",
       "    <tr>\n",
       "      <th>radius_mean</th>\n",
       "      <td>389.0</td>\n",
       "      <td>1.433808e+01</td>\n",
       "      <td>3.573300e+00</td>\n",
       "      <td>6.981000</td>\n",
       "      <td>11.810000</td>\n",
       "      <td>13.500000</td>\n",
       "      <td>1.626000e+01</td>\n",
       "      <td>2.811000e+01</td>\n",
       "    </tr>\n",
       "    <tr>\n",
       "      <th>texture_mean</th>\n",
       "      <td>389.0</td>\n",
       "      <td>1.898018e+01</td>\n",
       "      <td>4.146792e+00</td>\n",
       "      <td>9.710000</td>\n",
       "      <td>15.900000</td>\n",
       "      <td>18.660000</td>\n",
       "      <td>2.158000e+01</td>\n",
       "      <td>3.928000e+01</td>\n",
       "    </tr>\n",
       "    <tr>\n",
       "      <th>perimeter_mean</th>\n",
       "      <td>389.0</td>\n",
       "      <td>9.343784e+01</td>\n",
       "      <td>2.461272e+01</td>\n",
       "      <td>43.790000</td>\n",
       "      <td>75.710000</td>\n",
       "      <td>87.210000</td>\n",
       "      <td>1.081000e+02</td>\n",
       "      <td>1.885000e+02</td>\n",
       "    </tr>\n",
       "    <tr>\n",
       "      <th>area_mean</th>\n",
       "      <td>389.0</td>\n",
       "      <td>6.747398e+02</td>\n",
       "      <td>3.574602e+02</td>\n",
       "      <td>143.500000</td>\n",
       "      <td>428.900000</td>\n",
       "      <td>562.100000</td>\n",
       "      <td>8.177000e+02</td>\n",
       "      <td>2.499000e+03</td>\n",
       "    </tr>\n",
       "    <tr>\n",
       "      <th>smoothness_mean</th>\n",
       "      <td>389.0</td>\n",
       "      <td>9.690951e-02</td>\n",
       "      <td>1.394563e-02</td>\n",
       "      <td>0.062510</td>\n",
       "      <td>0.086940</td>\n",
       "      <td>0.096760</td>\n",
       "      <td>1.062000e-01</td>\n",
       "      <td>1.447000e-01</td>\n",
       "    </tr>\n",
       "    <tr>\n",
       "      <th>compactness_mean</th>\n",
       "      <td>389.0</td>\n",
       "      <td>1.069978e-01</td>\n",
       "      <td>5.512219e-02</td>\n",
       "      <td>0.019380</td>\n",
       "      <td>0.066360</td>\n",
       "      <td>0.095800</td>\n",
       "      <td>1.336000e-01</td>\n",
       "      <td>3.454000e-01</td>\n",
       "    </tr>\n",
       "    <tr>\n",
       "      <th>concavity_mean</th>\n",
       "      <td>389.0</td>\n",
       "      <td>9.432745e-02</td>\n",
       "      <td>8.202390e-02</td>\n",
       "      <td>0.000000</td>\n",
       "      <td>0.030360</td>\n",
       "      <td>0.069500</td>\n",
       "      <td>1.379000e-01</td>\n",
       "      <td>4.268000e-01</td>\n",
       "    </tr>\n",
       "    <tr>\n",
       "      <th>concave points_mean</th>\n",
       "      <td>389.0</td>\n",
       "      <td>5.190124e-02</td>\n",
       "      <td>3.979646e-02</td>\n",
       "      <td>0.000000</td>\n",
       "      <td>0.020740</td>\n",
       "      <td>0.037800</td>\n",
       "      <td>7.944000e-02</td>\n",
       "      <td>2.012000e-01</td>\n",
       "    </tr>\n",
       "    <tr>\n",
       "      <th>symmetry_mean</th>\n",
       "      <td>389.0</td>\n",
       "      <td>1.831861e-01</td>\n",
       "      <td>2.868909e-02</td>\n",
       "      <td>0.116700</td>\n",
       "      <td>0.163400</td>\n",
       "      <td>0.180900</td>\n",
       "      <td>1.967000e-01</td>\n",
       "      <td>3.040000e-01</td>\n",
       "    </tr>\n",
       "    <tr>\n",
       "      <th>fractal_dimension_mean</th>\n",
       "      <td>389.0</td>\n",
       "      <td>6.278725e-02</td>\n",
       "      <td>7.295810e-03</td>\n",
       "      <td>0.049960</td>\n",
       "      <td>0.057430</td>\n",
       "      <td>0.061400</td>\n",
       "      <td>6.590000e-02</td>\n",
       "      <td>9.744000e-02</td>\n",
       "    </tr>\n",
       "    <tr>\n",
       "      <th>radius_se</th>\n",
       "      <td>389.0</td>\n",
       "      <td>4.223183e-01</td>\n",
       "      <td>2.797494e-01</td>\n",
       "      <td>0.111500</td>\n",
       "      <td>0.237500</td>\n",
       "      <td>0.335400</td>\n",
       "      <td>5.220000e-01</td>\n",
       "      <td>2.873000e+00</td>\n",
       "    </tr>\n",
       "    <tr>\n",
       "      <th>texture_se</th>\n",
       "      <td>389.0</td>\n",
       "      <td>1.190147e+00</td>\n",
       "      <td>5.346546e-01</td>\n",
       "      <td>0.360200</td>\n",
       "      <td>0.824900</td>\n",
       "      <td>1.065000</td>\n",
       "      <td>1.452000e+00</td>\n",
       "      <td>4.885000e+00</td>\n",
       "    </tr>\n",
       "    <tr>\n",
       "      <th>perimeter_se</th>\n",
       "      <td>389.0</td>\n",
       "      <td>2.976664e+00</td>\n",
       "      <td>2.057489e+00</td>\n",
       "      <td>0.757000</td>\n",
       "      <td>1.683000</td>\n",
       "      <td>2.376000</td>\n",
       "      <td>3.591000e+00</td>\n",
       "      <td>2.198000e+01</td>\n",
       "    </tr>\n",
       "    <tr>\n",
       "      <th>area_se</th>\n",
       "      <td>389.0</td>\n",
       "      <td>4.249447e+01</td>\n",
       "      <td>4.402620e+01</td>\n",
       "      <td>7.228000</td>\n",
       "      <td>18.020000</td>\n",
       "      <td>26.030000</td>\n",
       "      <td>4.985000e+01</td>\n",
       "      <td>5.256000e+02</td>\n",
       "    </tr>\n",
       "    <tr>\n",
       "      <th>smoothness_se</th>\n",
       "      <td>389.0</td>\n",
       "      <td>7.004591e-03</td>\n",
       "      <td>3.062375e-03</td>\n",
       "      <td>0.001713</td>\n",
       "      <td>0.005169</td>\n",
       "      <td>0.006307</td>\n",
       "      <td>8.081000e-03</td>\n",
       "      <td>3.113000e-02</td>\n",
       "    </tr>\n",
       "    <tr>\n",
       "      <th>compactness_se</th>\n",
       "      <td>389.0</td>\n",
       "      <td>2.631336e-02</td>\n",
       "      <td>1.938324e-02</td>\n",
       "      <td>0.002252</td>\n",
       "      <td>0.013300</td>\n",
       "      <td>0.020830</td>\n",
       "      <td>3.368000e-02</td>\n",
       "      <td>1.354000e-01</td>\n",
       "    </tr>\n",
       "    <tr>\n",
       "      <th>concavity_se</th>\n",
       "      <td>389.0</td>\n",
       "      <td>3.314230e-02</td>\n",
       "      <td>3.366685e-02</td>\n",
       "      <td>0.000000</td>\n",
       "      <td>0.015560</td>\n",
       "      <td>0.026260</td>\n",
       "      <td>4.252000e-02</td>\n",
       "      <td>3.960000e-01</td>\n",
       "    </tr>\n",
       "    <tr>\n",
       "      <th>concave points_se</th>\n",
       "      <td>389.0</td>\n",
       "      <td>1.210049e-02</td>\n",
       "      <td>6.376579e-03</td>\n",
       "      <td>0.000000</td>\n",
       "      <td>0.007978</td>\n",
       "      <td>0.011210</td>\n",
       "      <td>1.506000e-02</td>\n",
       "      <td>5.279000e-02</td>\n",
       "    </tr>\n",
       "    <tr>\n",
       "      <th>symmetry_se</th>\n",
       "      <td>389.0</td>\n",
       "      <td>2.124835e-02</td>\n",
       "      <td>9.150198e-03</td>\n",
       "      <td>0.007882</td>\n",
       "      <td>0.015200</td>\n",
       "      <td>0.018970</td>\n",
       "      <td>2.418000e-02</td>\n",
       "      <td>7.895000e-02</td>\n",
       "    </tr>\n",
       "    <tr>\n",
       "      <th>fractal_dimension_se</th>\n",
       "      <td>389.0</td>\n",
       "      <td>3.879119e-03</td>\n",
       "      <td>2.916525e-03</td>\n",
       "      <td>0.000895</td>\n",
       "      <td>0.002211</td>\n",
       "      <td>0.003187</td>\n",
       "      <td>4.560000e-03</td>\n",
       "      <td>2.984000e-02</td>\n",
       "    </tr>\n",
       "    <tr>\n",
       "      <th>radius_worst</th>\n",
       "      <td>389.0</td>\n",
       "      <td>1.662258e+01</td>\n",
       "      <td>4.969510e+00</td>\n",
       "      <td>7.930000</td>\n",
       "      <td>13.110000</td>\n",
       "      <td>15.150000</td>\n",
       "      <td>1.977000e+01</td>\n",
       "      <td>3.313000e+01</td>\n",
       "    </tr>\n",
       "    <tr>\n",
       "      <th>texture_worst</th>\n",
       "      <td>389.0</td>\n",
       "      <td>2.534398e+01</td>\n",
       "      <td>6.163886e+00</td>\n",
       "      <td>12.020000</td>\n",
       "      <td>20.790000</td>\n",
       "      <td>25.050000</td>\n",
       "      <td>2.933000e+01</td>\n",
       "      <td>4.954000e+01</td>\n",
       "    </tr>\n",
       "    <tr>\n",
       "      <th>perimeter_worst</th>\n",
       "      <td>389.0</td>\n",
       "      <td>1.096171e+02</td>\n",
       "      <td>3.444032e+01</td>\n",
       "      <td>50.410000</td>\n",
       "      <td>84.480000</td>\n",
       "      <td>99.210000</td>\n",
       "      <td>1.292000e+02</td>\n",
       "      <td>2.293000e+02</td>\n",
       "    </tr>\n",
       "    <tr>\n",
       "      <th>area_worst</th>\n",
       "      <td>389.0</td>\n",
       "      <td>9.198902e+02</td>\n",
       "      <td>5.848497e+02</td>\n",
       "      <td>185.200000</td>\n",
       "      <td>521.700000</td>\n",
       "      <td>706.200000</td>\n",
       "      <td>1.218000e+03</td>\n",
       "      <td>3.432000e+03</td>\n",
       "    </tr>\n",
       "    <tr>\n",
       "      <th>smoothness_worst</th>\n",
       "      <td>389.0</td>\n",
       "      <td>1.332403e-01</td>\n",
       "      <td>2.350595e-02</td>\n",
       "      <td>0.071170</td>\n",
       "      <td>0.117000</td>\n",
       "      <td>0.132200</td>\n",
       "      <td>1.481000e-01</td>\n",
       "      <td>2.226000e-01</td>\n",
       "    </tr>\n",
       "    <tr>\n",
       "      <th>compactness_worst</th>\n",
       "      <td>389.0</td>\n",
       "      <td>2.632027e-01</td>\n",
       "      <td>1.671250e-01</td>\n",
       "      <td>0.027290</td>\n",
       "      <td>0.145700</td>\n",
       "      <td>0.220800</td>\n",
       "      <td>3.542000e-01</td>\n",
       "      <td>1.058000e+00</td>\n",
       "    </tr>\n",
       "    <tr>\n",
       "      <th>concavity_worst</th>\n",
       "      <td>389.0</td>\n",
       "      <td>2.840889e-01</td>\n",
       "      <td>2.137638e-01</td>\n",
       "      <td>0.000000</td>\n",
       "      <td>0.114400</td>\n",
       "      <td>0.243400</td>\n",
       "      <td>3.965000e-01</td>\n",
       "      <td>1.252000e+00</td>\n",
       "    </tr>\n",
       "    <tr>\n",
       "      <th>concave points_worst</th>\n",
       "      <td>389.0</td>\n",
       "      <td>1.196254e-01</td>\n",
       "      <td>6.764735e-02</td>\n",
       "      <td>0.000000</td>\n",
       "      <td>0.063160</td>\n",
       "      <td>0.108700</td>\n",
       "      <td>1.732000e-01</td>\n",
       "      <td>2.910000e-01</td>\n",
       "    </tr>\n",
       "    <tr>\n",
       "      <th>symmetry_worst</th>\n",
       "      <td>389.0</td>\n",
       "      <td>2.969000e-01</td>\n",
       "      <td>6.745891e-02</td>\n",
       "      <td>0.156500</td>\n",
       "      <td>0.255400</td>\n",
       "      <td>0.285200</td>\n",
       "      <td>3.258000e-01</td>\n",
       "      <td>6.638000e-01</td>\n",
       "    </tr>\n",
       "    <tr>\n",
       "      <th>fractal_dimension_worst</th>\n",
       "      <td>389.0</td>\n",
       "      <td>8.455882e-02</td>\n",
       "      <td>1.917600e-02</td>\n",
       "      <td>0.055040</td>\n",
       "      <td>0.071270</td>\n",
       "      <td>0.080220</td>\n",
       "      <td>9.261000e-02</td>\n",
       "      <td>2.075000e-01</td>\n",
       "    </tr>\n",
       "  </tbody>\n",
       "</table>\n",
       "</div>"
      ],
      "text/plain": [
       "                         count          mean           std          min  \\\n",
       "id                       389.0  2.703005e+07  1.111087e+08  8670.000000   \n",
       "radius_mean              389.0  1.433808e+01  3.573300e+00     6.981000   \n",
       "texture_mean             389.0  1.898018e+01  4.146792e+00     9.710000   \n",
       "perimeter_mean           389.0  9.343784e+01  2.461272e+01    43.790000   \n",
       "area_mean                389.0  6.747398e+02  3.574602e+02   143.500000   \n",
       "smoothness_mean          389.0  9.690951e-02  1.394563e-02     0.062510   \n",
       "compactness_mean         389.0  1.069978e-01  5.512219e-02     0.019380   \n",
       "concavity_mean           389.0  9.432745e-02  8.202390e-02     0.000000   \n",
       "concave points_mean      389.0  5.190124e-02  3.979646e-02     0.000000   \n",
       "symmetry_mean            389.0  1.831861e-01  2.868909e-02     0.116700   \n",
       "fractal_dimension_mean   389.0  6.278725e-02  7.295810e-03     0.049960   \n",
       "radius_se                389.0  4.223183e-01  2.797494e-01     0.111500   \n",
       "texture_se               389.0  1.190147e+00  5.346546e-01     0.360200   \n",
       "perimeter_se             389.0  2.976664e+00  2.057489e+00     0.757000   \n",
       "area_se                  389.0  4.249447e+01  4.402620e+01     7.228000   \n",
       "smoothness_se            389.0  7.004591e-03  3.062375e-03     0.001713   \n",
       "compactness_se           389.0  2.631336e-02  1.938324e-02     0.002252   \n",
       "concavity_se             389.0  3.314230e-02  3.366685e-02     0.000000   \n",
       "concave points_se        389.0  1.210049e-02  6.376579e-03     0.000000   \n",
       "symmetry_se              389.0  2.124835e-02  9.150198e-03     0.007882   \n",
       "fractal_dimension_se     389.0  3.879119e-03  2.916525e-03     0.000895   \n",
       "radius_worst             389.0  1.662258e+01  4.969510e+00     7.930000   \n",
       "texture_worst            389.0  2.534398e+01  6.163886e+00    12.020000   \n",
       "perimeter_worst          389.0  1.096171e+02  3.444032e+01    50.410000   \n",
       "area_worst               389.0  9.198902e+02  5.848497e+02   185.200000   \n",
       "smoothness_worst         389.0  1.332403e-01  2.350595e-02     0.071170   \n",
       "compactness_worst        389.0  2.632027e-01  1.671250e-01     0.027290   \n",
       "concavity_worst          389.0  2.840889e-01  2.137638e-01     0.000000   \n",
       "concave points_worst     389.0  1.196254e-01  6.764735e-02     0.000000   \n",
       "symmetry_worst           389.0  2.969000e-01  6.745891e-02     0.156500   \n",
       "fractal_dimension_worst  389.0  8.455882e-02  1.917600e-02     0.055040   \n",
       "\n",
       "                                   25%            50%           75%  \\\n",
       "id                       862965.000000  891703.000000  8.812877e+06   \n",
       "radius_mean                  11.810000      13.500000  1.626000e+01   \n",
       "texture_mean                 15.900000      18.660000  2.158000e+01   \n",
       "perimeter_mean               75.710000      87.210000  1.081000e+02   \n",
       "area_mean                   428.900000     562.100000  8.177000e+02   \n",
       "smoothness_mean               0.086940       0.096760  1.062000e-01   \n",
       "compactness_mean              0.066360       0.095800  1.336000e-01   \n",
       "concavity_mean                0.030360       0.069500  1.379000e-01   \n",
       "concave points_mean           0.020740       0.037800  7.944000e-02   \n",
       "symmetry_mean                 0.163400       0.180900  1.967000e-01   \n",
       "fractal_dimension_mean        0.057430       0.061400  6.590000e-02   \n",
       "radius_se                     0.237500       0.335400  5.220000e-01   \n",
       "texture_se                    0.824900       1.065000  1.452000e+00   \n",
       "perimeter_se                  1.683000       2.376000  3.591000e+00   \n",
       "area_se                      18.020000      26.030000  4.985000e+01   \n",
       "smoothness_se                 0.005169       0.006307  8.081000e-03   \n",
       "compactness_se                0.013300       0.020830  3.368000e-02   \n",
       "concavity_se                  0.015560       0.026260  4.252000e-02   \n",
       "concave points_se             0.007978       0.011210  1.506000e-02   \n",
       "symmetry_se                   0.015200       0.018970  2.418000e-02   \n",
       "fractal_dimension_se          0.002211       0.003187  4.560000e-03   \n",
       "radius_worst                 13.110000      15.150000  1.977000e+01   \n",
       "texture_worst                20.790000      25.050000  2.933000e+01   \n",
       "perimeter_worst              84.480000      99.210000  1.292000e+02   \n",
       "area_worst                  521.700000     706.200000  1.218000e+03   \n",
       "smoothness_worst              0.117000       0.132200  1.481000e-01   \n",
       "compactness_worst             0.145700       0.220800  3.542000e-01   \n",
       "concavity_worst               0.114400       0.243400  3.965000e-01   \n",
       "concave points_worst          0.063160       0.108700  1.732000e-01   \n",
       "symmetry_worst                0.255400       0.285200  3.258000e-01   \n",
       "fractal_dimension_worst       0.071270       0.080220  9.261000e-02   \n",
       "\n",
       "                                  max  \n",
       "id                       9.010343e+08  \n",
       "radius_mean              2.811000e+01  \n",
       "texture_mean             3.928000e+01  \n",
       "perimeter_mean           1.885000e+02  \n",
       "area_mean                2.499000e+03  \n",
       "smoothness_mean          1.447000e-01  \n",
       "compactness_mean         3.454000e-01  \n",
       "concavity_mean           4.268000e-01  \n",
       "concave points_mean      2.012000e-01  \n",
       "symmetry_mean            3.040000e-01  \n",
       "fractal_dimension_mean   9.744000e-02  \n",
       "radius_se                2.873000e+00  \n",
       "texture_se               4.885000e+00  \n",
       "perimeter_se             2.198000e+01  \n",
       "area_se                  5.256000e+02  \n",
       "smoothness_se            3.113000e-02  \n",
       "compactness_se           1.354000e-01  \n",
       "concavity_se             3.960000e-01  \n",
       "concave points_se        5.279000e-02  \n",
       "symmetry_se              7.895000e-02  \n",
       "fractal_dimension_se     2.984000e-02  \n",
       "radius_worst             3.313000e+01  \n",
       "texture_worst            4.954000e+01  \n",
       "perimeter_worst          2.293000e+02  \n",
       "area_worst               3.432000e+03  \n",
       "smoothness_worst         2.226000e-01  \n",
       "compactness_worst        1.058000e+00  \n",
       "concavity_worst          1.252000e+00  \n",
       "concave points_worst     2.910000e-01  \n",
       "symmetry_worst           6.638000e-01  \n",
       "fractal_dimension_worst  2.075000e-01  "
      ]
     },
     "execution_count": 7,
     "metadata": {},
     "output_type": "execute_result"
    }
   ],
   "source": [
    "#Generating descriptive statistics\n",
    "df_train.describe().T"
   ]
  },
  {
   "cell_type": "markdown",
   "id": "a9fdc534",
   "metadata": {
    "papermill": {
     "duration": 0.012263,
     "end_time": "2023-02-01T14:05:05.566254",
     "exception": false,
     "start_time": "2023-02-01T14:05:05.553991",
     "status": "completed"
    },
    "tags": []
   },
   "source": [
    "# EDA"
   ]
  },
  {
   "cell_type": "markdown",
   "id": "70637b98",
   "metadata": {
    "papermill": {
     "duration": 0.012279,
     "end_time": "2023-02-01T14:05:05.591084",
     "exception": false,
     "start_time": "2023-02-01T14:05:05.578805",
     "status": "completed"
    },
    "tags": []
   },
   "source": [
    "Let's find how many have benignant and malignant tumors"
   ]
  },
  {
   "cell_type": "code",
   "execution_count": 8,
   "id": "6a54eaed",
   "metadata": {
    "execution": {
     "iopub.execute_input": "2023-02-01T14:05:05.618000Z",
     "iopub.status.busy": "2023-02-01T14:05:05.617576Z",
     "iopub.status.idle": "2023-02-01T14:05:05.625128Z",
     "shell.execute_reply": "2023-02-01T14:05:05.624349Z"
    },
    "papermill": {
     "duration": 0.02362,
     "end_time": "2023-02-01T14:05:05.627210",
     "exception": false,
     "start_time": "2023-02-01T14:05:05.603590",
     "status": "completed"
    },
    "tags": []
   },
   "outputs": [
    {
     "data": {
      "text/plain": [
       "B    219\n",
       "M    170\n",
       "Name: diagnosis, dtype: int64"
      ]
     },
     "execution_count": 8,
     "metadata": {},
     "output_type": "execute_result"
    }
   ],
   "source": [
    "#finging the values\n",
    "df_train.diagnosis.value_counts()"
   ]
  },
  {
   "cell_type": "code",
   "execution_count": 9,
   "id": "5258f5d4",
   "metadata": {
    "execution": {
     "iopub.execute_input": "2023-02-01T14:05:05.654319Z",
     "iopub.status.busy": "2023-02-01T14:05:05.653902Z",
     "iopub.status.idle": "2023-02-01T14:05:05.690906Z",
     "shell.execute_reply": "2023-02-01T14:05:05.689708Z"
    },
    "papermill": {
     "duration": 0.054011,
     "end_time": "2023-02-01T14:05:05.693817",
     "exception": false,
     "start_time": "2023-02-01T14:05:05.639806",
     "status": "completed"
    },
    "tags": []
   },
   "outputs": [
    {
     "data": {
      "text/html": [
       "<div>\n",
       "<style scoped>\n",
       "    .dataframe tbody tr th:only-of-type {\n",
       "        vertical-align: middle;\n",
       "    }\n",
       "\n",
       "    .dataframe tbody tr th {\n",
       "        vertical-align: top;\n",
       "    }\n",
       "\n",
       "    .dataframe thead th {\n",
       "        text-align: right;\n",
       "    }\n",
       "</style>\n",
       "<table border=\"1\" class=\"dataframe\">\n",
       "  <thead>\n",
       "    <tr style=\"text-align: right;\">\n",
       "      <th></th>\n",
       "      <th>id</th>\n",
       "      <th>diagnosis</th>\n",
       "      <th>radius_mean</th>\n",
       "      <th>texture_mean</th>\n",
       "      <th>perimeter_mean</th>\n",
       "      <th>area_mean</th>\n",
       "      <th>smoothness_mean</th>\n",
       "      <th>compactness_mean</th>\n",
       "      <th>concavity_mean</th>\n",
       "      <th>concave points_mean</th>\n",
       "      <th>...</th>\n",
       "      <th>radius_worst</th>\n",
       "      <th>texture_worst</th>\n",
       "      <th>perimeter_worst</th>\n",
       "      <th>area_worst</th>\n",
       "      <th>smoothness_worst</th>\n",
       "      <th>compactness_worst</th>\n",
       "      <th>concavity_worst</th>\n",
       "      <th>concave points_worst</th>\n",
       "      <th>symmetry_worst</th>\n",
       "      <th>fractal_dimension_worst</th>\n",
       "    </tr>\n",
       "  </thead>\n",
       "  <tbody>\n",
       "    <tr>\n",
       "      <th>0</th>\n",
       "      <td>842302</td>\n",
       "      <td>0</td>\n",
       "      <td>17.99</td>\n",
       "      <td>10.38</td>\n",
       "      <td>122.80</td>\n",
       "      <td>1001.0</td>\n",
       "      <td>0.11840</td>\n",
       "      <td>0.27760</td>\n",
       "      <td>0.30010</td>\n",
       "      <td>0.147100</td>\n",
       "      <td>...</td>\n",
       "      <td>25.38</td>\n",
       "      <td>17.33</td>\n",
       "      <td>184.60</td>\n",
       "      <td>2019.0</td>\n",
       "      <td>0.16220</td>\n",
       "      <td>0.6656</td>\n",
       "      <td>0.7119</td>\n",
       "      <td>0.26540</td>\n",
       "      <td>0.4601</td>\n",
       "      <td>0.11890</td>\n",
       "    </tr>\n",
       "    <tr>\n",
       "      <th>1</th>\n",
       "      <td>842517</td>\n",
       "      <td>0</td>\n",
       "      <td>20.57</td>\n",
       "      <td>17.77</td>\n",
       "      <td>132.90</td>\n",
       "      <td>1326.0</td>\n",
       "      <td>0.08474</td>\n",
       "      <td>0.07864</td>\n",
       "      <td>0.08690</td>\n",
       "      <td>0.070170</td>\n",
       "      <td>...</td>\n",
       "      <td>24.99</td>\n",
       "      <td>23.41</td>\n",
       "      <td>158.80</td>\n",
       "      <td>1956.0</td>\n",
       "      <td>0.12380</td>\n",
       "      <td>0.1866</td>\n",
       "      <td>0.2416</td>\n",
       "      <td>0.18600</td>\n",
       "      <td>0.2750</td>\n",
       "      <td>0.08902</td>\n",
       "    </tr>\n",
       "    <tr>\n",
       "      <th>2</th>\n",
       "      <td>84300903</td>\n",
       "      <td>0</td>\n",
       "      <td>19.69</td>\n",
       "      <td>21.25</td>\n",
       "      <td>130.00</td>\n",
       "      <td>1203.0</td>\n",
       "      <td>0.10960</td>\n",
       "      <td>0.15990</td>\n",
       "      <td>0.19740</td>\n",
       "      <td>0.127900</td>\n",
       "      <td>...</td>\n",
       "      <td>23.57</td>\n",
       "      <td>25.53</td>\n",
       "      <td>152.50</td>\n",
       "      <td>1709.0</td>\n",
       "      <td>0.14440</td>\n",
       "      <td>0.4245</td>\n",
       "      <td>0.4504</td>\n",
       "      <td>0.24300</td>\n",
       "      <td>0.3613</td>\n",
       "      <td>0.08758</td>\n",
       "    </tr>\n",
       "    <tr>\n",
       "      <th>3</th>\n",
       "      <td>84348301</td>\n",
       "      <td>0</td>\n",
       "      <td>11.42</td>\n",
       "      <td>20.38</td>\n",
       "      <td>77.58</td>\n",
       "      <td>386.1</td>\n",
       "      <td>0.14250</td>\n",
       "      <td>0.28390</td>\n",
       "      <td>0.24140</td>\n",
       "      <td>0.105200</td>\n",
       "      <td>...</td>\n",
       "      <td>14.91</td>\n",
       "      <td>26.50</td>\n",
       "      <td>98.87</td>\n",
       "      <td>567.7</td>\n",
       "      <td>0.20980</td>\n",
       "      <td>0.8663</td>\n",
       "      <td>0.6869</td>\n",
       "      <td>0.25750</td>\n",
       "      <td>0.6638</td>\n",
       "      <td>0.17300</td>\n",
       "    </tr>\n",
       "    <tr>\n",
       "      <th>4</th>\n",
       "      <td>84358402</td>\n",
       "      <td>0</td>\n",
       "      <td>20.29</td>\n",
       "      <td>14.34</td>\n",
       "      <td>135.10</td>\n",
       "      <td>1297.0</td>\n",
       "      <td>0.10030</td>\n",
       "      <td>0.13280</td>\n",
       "      <td>0.19800</td>\n",
       "      <td>0.104300</td>\n",
       "      <td>...</td>\n",
       "      <td>22.54</td>\n",
       "      <td>16.67</td>\n",
       "      <td>152.20</td>\n",
       "      <td>1575.0</td>\n",
       "      <td>0.13740</td>\n",
       "      <td>0.2050</td>\n",
       "      <td>0.4000</td>\n",
       "      <td>0.16250</td>\n",
       "      <td>0.2364</td>\n",
       "      <td>0.07678</td>\n",
       "    </tr>\n",
       "    <tr>\n",
       "      <th>...</th>\n",
       "      <td>...</td>\n",
       "      <td>...</td>\n",
       "      <td>...</td>\n",
       "      <td>...</td>\n",
       "      <td>...</td>\n",
       "      <td>...</td>\n",
       "      <td>...</td>\n",
       "      <td>...</td>\n",
       "      <td>...</td>\n",
       "      <td>...</td>\n",
       "      <td>...</td>\n",
       "      <td>...</td>\n",
       "      <td>...</td>\n",
       "      <td>...</td>\n",
       "      <td>...</td>\n",
       "      <td>...</td>\n",
       "      <td>...</td>\n",
       "      <td>...</td>\n",
       "      <td>...</td>\n",
       "      <td>...</td>\n",
       "      <td>...</td>\n",
       "    </tr>\n",
       "    <tr>\n",
       "      <th>384</th>\n",
       "      <td>902727</td>\n",
       "      <td>1</td>\n",
       "      <td>13.28</td>\n",
       "      <td>13.72</td>\n",
       "      <td>85.79</td>\n",
       "      <td>541.8</td>\n",
       "      <td>0.08363</td>\n",
       "      <td>0.08575</td>\n",
       "      <td>0.05077</td>\n",
       "      <td>0.028640</td>\n",
       "      <td>...</td>\n",
       "      <td>14.24</td>\n",
       "      <td>17.37</td>\n",
       "      <td>96.59</td>\n",
       "      <td>623.7</td>\n",
       "      <td>0.11660</td>\n",
       "      <td>0.2685</td>\n",
       "      <td>0.2866</td>\n",
       "      <td>0.09173</td>\n",
       "      <td>0.2736</td>\n",
       "      <td>0.07320</td>\n",
       "    </tr>\n",
       "    <tr>\n",
       "      <th>385</th>\n",
       "      <td>90291</td>\n",
       "      <td>0</td>\n",
       "      <td>14.60</td>\n",
       "      <td>23.29</td>\n",
       "      <td>93.97</td>\n",
       "      <td>664.7</td>\n",
       "      <td>0.08682</td>\n",
       "      <td>0.06636</td>\n",
       "      <td>0.08390</td>\n",
       "      <td>0.052710</td>\n",
       "      <td>...</td>\n",
       "      <td>15.79</td>\n",
       "      <td>31.71</td>\n",
       "      <td>102.20</td>\n",
       "      <td>758.2</td>\n",
       "      <td>0.13120</td>\n",
       "      <td>0.1581</td>\n",
       "      <td>0.2675</td>\n",
       "      <td>0.13590</td>\n",
       "      <td>0.2477</td>\n",
       "      <td>0.06836</td>\n",
       "    </tr>\n",
       "    <tr>\n",
       "      <th>386</th>\n",
       "      <td>902975</td>\n",
       "      <td>1</td>\n",
       "      <td>12.21</td>\n",
       "      <td>14.09</td>\n",
       "      <td>78.78</td>\n",
       "      <td>462.0</td>\n",
       "      <td>0.08108</td>\n",
       "      <td>0.07823</td>\n",
       "      <td>0.06839</td>\n",
       "      <td>0.025340</td>\n",
       "      <td>...</td>\n",
       "      <td>13.13</td>\n",
       "      <td>19.29</td>\n",
       "      <td>87.65</td>\n",
       "      <td>529.9</td>\n",
       "      <td>0.10260</td>\n",
       "      <td>0.2431</td>\n",
       "      <td>0.3076</td>\n",
       "      <td>0.09140</td>\n",
       "      <td>0.2677</td>\n",
       "      <td>0.08824</td>\n",
       "    </tr>\n",
       "    <tr>\n",
       "      <th>387</th>\n",
       "      <td>902976</td>\n",
       "      <td>1</td>\n",
       "      <td>13.88</td>\n",
       "      <td>16.16</td>\n",
       "      <td>88.37</td>\n",
       "      <td>596.6</td>\n",
       "      <td>0.07026</td>\n",
       "      <td>0.04831</td>\n",
       "      <td>0.02045</td>\n",
       "      <td>0.008507</td>\n",
       "      <td>...</td>\n",
       "      <td>15.51</td>\n",
       "      <td>19.97</td>\n",
       "      <td>99.66</td>\n",
       "      <td>745.3</td>\n",
       "      <td>0.08484</td>\n",
       "      <td>0.1233</td>\n",
       "      <td>0.1091</td>\n",
       "      <td>0.04537</td>\n",
       "      <td>0.2542</td>\n",
       "      <td>0.06623</td>\n",
       "    </tr>\n",
       "    <tr>\n",
       "      <th>388</th>\n",
       "      <td>903011</td>\n",
       "      <td>1</td>\n",
       "      <td>11.27</td>\n",
       "      <td>15.50</td>\n",
       "      <td>73.38</td>\n",
       "      <td>392.0</td>\n",
       "      <td>0.08365</td>\n",
       "      <td>0.11140</td>\n",
       "      <td>0.10070</td>\n",
       "      <td>0.027570</td>\n",
       "      <td>...</td>\n",
       "      <td>12.04</td>\n",
       "      <td>18.93</td>\n",
       "      <td>79.73</td>\n",
       "      <td>450.0</td>\n",
       "      <td>0.11020</td>\n",
       "      <td>0.2809</td>\n",
       "      <td>0.3021</td>\n",
       "      <td>0.08272</td>\n",
       "      <td>0.2157</td>\n",
       "      <td>0.10430</td>\n",
       "    </tr>\n",
       "  </tbody>\n",
       "</table>\n",
       "<p>389 rows × 32 columns</p>\n",
       "</div>"
      ],
      "text/plain": [
       "           id  diagnosis  radius_mean  texture_mean  perimeter_mean  \\\n",
       "0      842302          0        17.99         10.38          122.80   \n",
       "1      842517          0        20.57         17.77          132.90   \n",
       "2    84300903          0        19.69         21.25          130.00   \n",
       "3    84348301          0        11.42         20.38           77.58   \n",
       "4    84358402          0        20.29         14.34          135.10   \n",
       "..        ...        ...          ...           ...             ...   \n",
       "384    902727          1        13.28         13.72           85.79   \n",
       "385     90291          0        14.60         23.29           93.97   \n",
       "386    902975          1        12.21         14.09           78.78   \n",
       "387    902976          1        13.88         16.16           88.37   \n",
       "388    903011          1        11.27         15.50           73.38   \n",
       "\n",
       "     area_mean  smoothness_mean  compactness_mean  concavity_mean  \\\n",
       "0       1001.0          0.11840           0.27760         0.30010   \n",
       "1       1326.0          0.08474           0.07864         0.08690   \n",
       "2       1203.0          0.10960           0.15990         0.19740   \n",
       "3        386.1          0.14250           0.28390         0.24140   \n",
       "4       1297.0          0.10030           0.13280         0.19800   \n",
       "..         ...              ...               ...             ...   \n",
       "384      541.8          0.08363           0.08575         0.05077   \n",
       "385      664.7          0.08682           0.06636         0.08390   \n",
       "386      462.0          0.08108           0.07823         0.06839   \n",
       "387      596.6          0.07026           0.04831         0.02045   \n",
       "388      392.0          0.08365           0.11140         0.10070   \n",
       "\n",
       "     concave points_mean  ...  radius_worst  texture_worst  perimeter_worst  \\\n",
       "0               0.147100  ...         25.38          17.33           184.60   \n",
       "1               0.070170  ...         24.99          23.41           158.80   \n",
       "2               0.127900  ...         23.57          25.53           152.50   \n",
       "3               0.105200  ...         14.91          26.50            98.87   \n",
       "4               0.104300  ...         22.54          16.67           152.20   \n",
       "..                   ...  ...           ...            ...              ...   \n",
       "384             0.028640  ...         14.24          17.37            96.59   \n",
       "385             0.052710  ...         15.79          31.71           102.20   \n",
       "386             0.025340  ...         13.13          19.29            87.65   \n",
       "387             0.008507  ...         15.51          19.97            99.66   \n",
       "388             0.027570  ...         12.04          18.93            79.73   \n",
       "\n",
       "     area_worst  smoothness_worst  compactness_worst  concavity_worst  \\\n",
       "0        2019.0           0.16220             0.6656           0.7119   \n",
       "1        1956.0           0.12380             0.1866           0.2416   \n",
       "2        1709.0           0.14440             0.4245           0.4504   \n",
       "3         567.7           0.20980             0.8663           0.6869   \n",
       "4        1575.0           0.13740             0.2050           0.4000   \n",
       "..          ...               ...                ...              ...   \n",
       "384       623.7           0.11660             0.2685           0.2866   \n",
       "385       758.2           0.13120             0.1581           0.2675   \n",
       "386       529.9           0.10260             0.2431           0.3076   \n",
       "387       745.3           0.08484             0.1233           0.1091   \n",
       "388       450.0           0.11020             0.2809           0.3021   \n",
       "\n",
       "     concave points_worst  symmetry_worst  fractal_dimension_worst  \n",
       "0                 0.26540          0.4601                  0.11890  \n",
       "1                 0.18600          0.2750                  0.08902  \n",
       "2                 0.24300          0.3613                  0.08758  \n",
       "3                 0.25750          0.6638                  0.17300  \n",
       "4                 0.16250          0.2364                  0.07678  \n",
       "..                    ...             ...                      ...  \n",
       "384               0.09173          0.2736                  0.07320  \n",
       "385               0.13590          0.2477                  0.06836  \n",
       "386               0.09140          0.2677                  0.08824  \n",
       "387               0.04537          0.2542                  0.06623  \n",
       "388               0.08272          0.2157                  0.10430  \n",
       "\n",
       "[389 rows x 32 columns]"
      ]
     },
     "execution_count": 9,
     "metadata": {},
     "output_type": "execute_result"
    }
   ],
   "source": [
    "df_train['diagnosis']=df_train['diagnosis'].map({'B':1,'M':0})\n",
    "df_train"
   ]
  },
  {
   "cell_type": "code",
   "execution_count": 10,
   "id": "f883bb45",
   "metadata": {
    "execution": {
     "iopub.execute_input": "2023-02-01T14:05:05.722419Z",
     "iopub.status.busy": "2023-02-01T14:05:05.721334Z",
     "iopub.status.idle": "2023-02-01T14:05:05.731247Z",
     "shell.execute_reply": "2023-02-01T14:05:05.730096Z"
    },
    "papermill": {
     "duration": 0.026849,
     "end_time": "2023-02-01T14:05:05.733861",
     "exception": false,
     "start_time": "2023-02-01T14:05:05.707012",
     "status": "completed"
    },
    "tags": []
   },
   "outputs": [
    {
     "data": {
      "text/plain": [
       "1    219\n",
       "0    170\n",
       "Name: diagnosis, dtype: int64"
      ]
     },
     "execution_count": 10,
     "metadata": {},
     "output_type": "execute_result"
    }
   ],
   "source": [
    "df_train.diagnosis.value_counts()"
   ]
  },
  {
   "cell_type": "code",
   "execution_count": 11,
   "id": "d655b665",
   "metadata": {
    "execution": {
     "iopub.execute_input": "2023-02-01T14:05:05.763226Z",
     "iopub.status.busy": "2023-02-01T14:05:05.762822Z",
     "iopub.status.idle": "2023-02-01T14:05:05.951731Z",
     "shell.execute_reply": "2023-02-01T14:05:05.950763Z"
    },
    "papermill": {
     "duration": 0.206634,
     "end_time": "2023-02-01T14:05:05.954157",
     "exception": false,
     "start_time": "2023-02-01T14:05:05.747523",
     "status": "completed"
    },
    "tags": []
   },
   "outputs": [
    {
     "data": {
      "image/png": "[encoded data removed]",
      "text/plain": [
       "<Figure size 432x288 with 1 Axes>"
      ]
     },
     "metadata": {
      "needs_background": "light"
     },
     "output_type": "display_data"
    }
   ],
   "source": [
    "#plotting bar chart\n",
    "fig=df_train.diagnosis.value_counts().plot(kind='bar',color=[\"lightblue\",\"violet\"])\n",
    "fig.set_xticklabels(labels=['Has Benign Tumor',\"Has malignant Tumor\"],rotation=0);\n",
    "plt.title(\"Tumors values\")\n",
    "plt.ylabel(\"Amount\");"
   ]
  },
  {
   "cell_type": "code",
   "execution_count": 12,
   "id": "e7e0eefe",
   "metadata": {
    "execution": {
     "iopub.execute_input": "2023-02-01T14:05:05.983944Z",
     "iopub.status.busy": "2023-02-01T14:05:05.983454Z",
     "iopub.status.idle": "2023-02-01T14:05:06.153758Z",
     "shell.execute_reply": "2023-02-01T14:05:06.151674Z"
    },
    "papermill": {
     "duration": 0.192984,
     "end_time": "2023-02-01T14:05:06.160363",
     "exception": false,
     "start_time": "2023-02-01T14:05:05.967379",
     "status": "completed"
    },
    "tags": []
   },
   "outputs": [
    {
     "data": {
      "image/png": "[encoded data removed]",
      "text/plain": [
       "<Figure size 432x288 with 1 Axes>"
      ]
     },
     "metadata": {},
     "output_type": "display_data"
    }
   ],
   "source": [
    "#visualising in pie chart\n",
    "labels=\"Has Benign Tumor\",\"Has Malignant Tumor\"\n",
    "explode=(0,0)\n",
    "\n",
    "fig1, ax1 = plt.subplots()\n",
    "ax1.pie(df_train.diagnosis.value_counts(),explode=explode,labels=labels,autopct='%1.1f%%',shadow=True,startangle=90)\n",
    "ax1.axis('equal')\n",
    "plt.show()"
   ]
  },
  {
   "cell_type": "code",
   "execution_count": 13,
   "id": "42f16853",
   "metadata": {
    "execution": {
     "iopub.execute_input": "2023-02-01T14:05:06.228839Z",
     "iopub.status.busy": "2023-02-01T14:05:06.228039Z",
     "iopub.status.idle": "2023-02-01T14:05:06.239301Z",
     "shell.execute_reply": "2023-02-01T14:05:06.238375Z"
    },
    "papermill": {
     "duration": 0.045851,
     "end_time": "2023-02-01T14:05:06.241709",
     "exception": false,
     "start_time": "2023-02-01T14:05:06.195858",
     "status": "completed"
    },
    "tags": []
   },
   "outputs": [
    {
     "data": {
      "text/plain": [
       "id                         9\n",
       "diagnosis                  9\n",
       "radius_mean                9\n",
       "texture_mean               9\n",
       "perimeter_mean             9\n",
       "area_mean                  9\n",
       "smoothness_mean            9\n",
       "compactness_mean           9\n",
       "concavity_mean             9\n",
       "concave points_mean        9\n",
       "symmetry_mean              9\n",
       "fractal_dimension_mean     9\n",
       "radius_se                  9\n",
       "texture_se                 9\n",
       "perimeter_se               9\n",
       "area_se                    9\n",
       "smoothness_se              9\n",
       "compactness_se             9\n",
       "concavity_se               9\n",
       "concave points_se          9\n",
       "symmetry_se                9\n",
       "fractal_dimension_se       9\n",
       "radius_worst               9\n",
       "texture_worst              9\n",
       "perimeter_worst            9\n",
       "area_worst                 9\n",
       "smoothness_worst           9\n",
       "compactness_worst          9\n",
       "concavity_worst            9\n",
       "concave points_worst       9\n",
       "symmetry_worst             9\n",
       "fractal_dimension_worst    9\n",
       "dtype: int64"
      ]
     },
     "execution_count": 13,
     "metadata": {},
     "output_type": "execute_result"
    }
   ],
   "source": [
    "df_train[df_train.radius_mean>=23].count()"
   ]
  },
  {
   "cell_type": "markdown",
   "id": "040a72f4",
   "metadata": {
    "papermill": {
     "duration": 0.01393,
     "end_time": "2023-02-01T14:05:06.270209",
     "exception": false,
     "start_time": "2023-02-01T14:05:06.256279",
     "status": "completed"
    },
    "tags": []
   },
   "source": [
    "Differentiating radius_mean with numbers"
   ]
  },
  {
   "cell_type": "code",
   "execution_count": 14,
   "id": "23538c03",
   "metadata": {
    "execution": {
     "iopub.execute_input": "2023-02-01T14:05:06.301302Z",
     "iopub.status.busy": "2023-02-01T14:05:06.300550Z",
     "iopub.status.idle": "2023-02-01T14:05:06.511591Z",
     "shell.execute_reply": "2023-02-01T14:05:06.510699Z"
    },
    "papermill": {
     "duration": 0.228866,
     "end_time": "2023-02-01T14:05:06.514076",
     "exception": false,
     "start_time": "2023-02-01T14:05:06.285210",
     "status": "completed"
    },
    "tags": []
   },
   "outputs": [
    {
     "data": {
      "text/plain": [
       "<AxesSubplot:ylabel='Frequency'>"
      ]
     },
     "execution_count": 14,
     "metadata": {},
     "output_type": "execute_result"
    },
    {
     "data": {
      "image/png": "[encoded data removed]",
      "text/plain": [
       "<Figure size 432x288 with 1 Axes>"
      ]
     },
     "metadata": {
      "needs_background": "light"
     },
     "output_type": "display_data"
    }
   ],
   "source": [
    "df_train.radius_mean.plot(kind='hist')"
   ]
  },
  {
   "cell_type": "markdown",
   "id": "5d78f514",
   "metadata": {
    "papermill": {
     "duration": 0.015091,
     "end_time": "2023-02-01T14:05:06.543832",
     "exception": false,
     "start_time": "2023-02-01T14:05:06.528741",
     "status": "completed"
    },
    "tags": []
   },
   "source": [
    "# Visualize the Data"
   ]
  },
  {
   "cell_type": "code",
   "execution_count": 15,
   "id": "e1860fde",
   "metadata": {
    "execution": {
     "iopub.execute_input": "2023-02-01T14:05:06.575857Z",
     "iopub.status.busy": "2023-02-01T14:05:06.575158Z",
     "iopub.status.idle": "2023-02-01T14:05:10.316928Z",
     "shell.execute_reply": "2023-02-01T14:05:10.315643Z"
    },
    "papermill": {
     "duration": 3.760959,
     "end_time": "2023-02-01T14:05:10.319512",
     "exception": false,
     "start_time": "2023-02-01T14:05:06.558553",
     "status": "completed"
    },
    "tags": []
   },
   "outputs": [
    {
     "data": {
      "image/png": "[encoded data removed]",
      "text/plain": [
       "<Figure size 1440x1080 with 36 Axes>"
      ]
     },
     "metadata": {
      "needs_background": "light"
     },
     "output_type": "display_data"
    }
   ],
   "source": [
    "#Visualise the data using histograms\n",
    "#A histogram is a plot that lets you discover,and show, the underlying frequency distribution\n",
    "num_bins=10\n",
    "df_train.hist(bins=num_bins,figsize=(20,15))\n",
    "plt.show()"
   ]
  },
  {
   "cell_type": "markdown",
   "id": "0764e39b",
   "metadata": {
    "papermill": {
     "duration": 0.015245,
     "end_time": "2023-02-01T14:05:10.351157",
     "exception": false,
     "start_time": "2023-02-01T14:05:10.335912",
     "status": "completed"
    },
    "tags": []
   },
   "source": [
    "# Data Preprocessing"
   ]
  },
  {
   "cell_type": "code",
   "execution_count": 16,
   "id": "a12ec3fb",
   "metadata": {
    "execution": {
     "iopub.execute_input": "2023-02-01T14:05:10.383729Z",
     "iopub.status.busy": "2023-02-01T14:05:10.383275Z",
     "iopub.status.idle": "2023-02-01T14:05:10.393983Z",
     "shell.execute_reply": "2023-02-01T14:05:10.392535Z"
    },
    "papermill": {
     "duration": 0.029844,
     "end_time": "2023-02-01T14:05:10.396410",
     "exception": false,
     "start_time": "2023-02-01T14:05:10.366566",
     "status": "completed"
    },
    "tags": []
   },
   "outputs": [
    {
     "data": {
      "text/plain": [
       "id                         0\n",
       "diagnosis                  0\n",
       "radius_mean                0\n",
       "texture_mean               0\n",
       "perimeter_mean             0\n",
       "area_mean                  0\n",
       "smoothness_mean            0\n",
       "compactness_mean           0\n",
       "concavity_mean             0\n",
       "concave points_mean        0\n",
       "symmetry_mean              0\n",
       "fractal_dimension_mean     0\n",
       "radius_se                  0\n",
       "texture_se                 0\n",
       "perimeter_se               0\n",
       "area_se                    0\n",
       "smoothness_se              0\n",
       "compactness_se             0\n",
       "concavity_se               0\n",
       "concave points_se          0\n",
       "symmetry_se                0\n",
       "fractal_dimension_se       0\n",
       "radius_worst               0\n",
       "texture_worst              0\n",
       "perimeter_worst            0\n",
       "area_worst                 0\n",
       "smoothness_worst           0\n",
       "compactness_worst          0\n",
       "concavity_worst            0\n",
       "concave points_worst       0\n",
       "symmetry_worst             0\n",
       "fractal_dimension_worst    0\n",
       "dtype: int64"
      ]
     },
     "execution_count": 16,
     "metadata": {},
     "output_type": "execute_result"
    }
   ],
   "source": [
    "#Checking for null values\n",
    "df_train.isna().sum()"
   ]
  },
  {
   "cell_type": "markdown",
   "id": "8980f86e",
   "metadata": {
    "papermill": {
     "duration": 0.015705,
     "end_time": "2023-02-01T14:05:10.427828",
     "exception": false,
     "start_time": "2023-02-01T14:05:10.412123",
     "status": "completed"
    },
    "tags": []
   },
   "source": [
    "There is no null values"
   ]
  },
  {
   "cell_type": "markdown",
   "id": "c67ec748",
   "metadata": {
    "papermill": {
     "duration": 0.015322,
     "end_time": "2023-02-01T14:05:10.458584",
     "exception": false,
     "start_time": "2023-02-01T14:05:10.443262",
     "status": "completed"
    },
    "tags": []
   },
   "source": [
    "# Modelling"
   ]
  },
  {
   "cell_type": "code",
   "execution_count": 17,
   "id": "c5592846",
   "metadata": {
    "execution": {
     "iopub.execute_input": "2023-02-01T14:05:10.492906Z",
     "iopub.status.busy": "2023-02-01T14:05:10.492452Z",
     "iopub.status.idle": "2023-02-01T14:05:10.499236Z",
     "shell.execute_reply": "2023-02-01T14:05:10.497985Z"
    },
    "papermill": {
     "duration": 0.026464,
     "end_time": "2023-02-01T14:05:10.501599",
     "exception": false,
     "start_time": "2023-02-01T14:05:10.475135",
     "status": "completed"
    },
    "tags": []
   },
   "outputs": [],
   "source": [
    "#Creating dependent and independent matrix of features \n",
    "y=df_train['diagnosis'].values\n",
    "x=df_train.drop('diagnosis',axis=1).values"
   ]
  },
  {
   "cell_type": "code",
   "execution_count": 18,
   "id": "88fae5ef",
   "metadata": {
    "execution": {
     "iopub.execute_input": "2023-02-01T14:05:10.537039Z",
     "iopub.status.busy": "2023-02-01T14:05:10.536590Z",
     "iopub.status.idle": "2023-02-01T14:05:10.786316Z",
     "shell.execute_reply": "2023-02-01T14:05:10.785210Z"
    },
    "papermill": {
     "duration": 0.271277,
     "end_time": "2023-02-01T14:05:10.789339",
     "exception": false,
     "start_time": "2023-02-01T14:05:10.518062",
     "status": "completed"
    },
    "tags": []
   },
   "outputs": [],
   "source": [
    "#splitting the dataset into train and test set\n",
    "from sklearn.model_selection import train_test_split\n",
    "x_train,x_test,y_train,y_test=train_test_split(x,y,test_size=0.2,random_state=0)"
   ]
  },
  {
   "cell_type": "code",
   "execution_count": 19,
   "id": "a1d2f9cb",
   "metadata": {
    "execution": {
     "iopub.execute_input": "2023-02-01T14:05:10.824386Z",
     "iopub.status.busy": "2023-02-01T14:05:10.823499Z",
     "iopub.status.idle": "2023-02-01T14:05:10.831522Z",
     "shell.execute_reply": "2023-02-01T14:05:10.830719Z"
    },
    "papermill": {
     "duration": 0.027922,
     "end_time": "2023-02-01T14:05:10.833551",
     "exception": false,
     "start_time": "2023-02-01T14:05:10.805629",
     "status": "completed"
    },
    "tags": []
   },
   "outputs": [
    {
     "data": {
      "text/plain": [
       "(311, 78, 78, 311)"
      ]
     },
     "execution_count": 19,
     "metadata": {},
     "output_type": "execute_result"
    }
   ],
   "source": [
    "len(x_train),len(x_test),len(y_test),len(y_train)"
   ]
  },
  {
   "cell_type": "markdown",
   "id": "6656d4a4",
   "metadata": {
    "papermill": {
     "duration": 0.016946,
     "end_time": "2023-02-01T14:05:10.866529",
     "exception": false,
     "start_time": "2023-02-01T14:05:10.849583",
     "status": "completed"
    },
    "tags": []
   },
   "source": [
    "# Standardizing the features"
   ]
  },
  {
   "cell_type": "code",
   "execution_count": 20,
   "id": "fb23a6ef",
   "metadata": {
    "execution": {
     "iopub.execute_input": "2023-02-01T14:05:10.900835Z",
     "iopub.status.busy": "2023-02-01T14:05:10.900411Z",
     "iopub.status.idle": "2023-02-01T14:05:10.906407Z",
     "shell.execute_reply": "2023-02-01T14:05:10.905552Z"
    },
    "papermill": {
     "duration": 0.025546,
     "end_time": "2023-02-01T14:05:10.908478",
     "exception": false,
     "start_time": "2023-02-01T14:05:10.882932",
     "status": "completed"
    },
    "tags": []
   },
   "outputs": [],
   "source": [
    "#standardize the features using StandardScaler\n",
    "\n",
    "from sklearn.preprocessing import StandardScaler\n",
    "sc=StandardScaler()\n",
    "x_train=sc.fit_transform(x_train)\n",
    "x_test=sc.transform(x_test)"
   ]
  },
  {
   "cell_type": "code",
   "execution_count": 21,
   "id": "da3daf51",
   "metadata": {
    "execution": {
     "iopub.execute_input": "2023-02-01T14:05:10.942997Z",
     "iopub.status.busy": "2023-02-01T14:05:10.942298Z",
     "iopub.status.idle": "2023-02-01T14:05:10.946953Z",
     "shell.execute_reply": "2023-02-01T14:05:10.945901Z"
    },
    "papermill": {
     "duration": 0.024996,
     "end_time": "2023-02-01T14:05:10.949256",
     "exception": false,
     "start_time": "2023-02-01T14:05:10.924260",
     "status": "completed"
    },
    "tags": []
   },
   "outputs": [],
   "source": [
    "from sklearn.metrics import accuracy_score\n",
    "from sklearn.metrics import f1_score\n",
    "import seaborn as sn"
   ]
  },
  {
   "cell_type": "markdown",
   "id": "0d0b8cb3",
   "metadata": {
    "papermill": {
     "duration": 0.015749,
     "end_time": "2023-02-01T14:05:10.982826",
     "exception": false,
     "start_time": "2023-02-01T14:05:10.967077",
     "status": "completed"
    },
    "tags": []
   },
   "source": [
    "# Logistic Regression"
   ]
  },
  {
   "cell_type": "code",
   "execution_count": 22,
   "id": "a25f6dc9",
   "metadata": {
    "execution": {
     "iopub.execute_input": "2023-02-01T14:05:11.016432Z",
     "iopub.status.busy": "2023-02-01T14:05:11.015667Z",
     "iopub.status.idle": "2023-02-01T14:05:11.457992Z",
     "shell.execute_reply": "2023-02-01T14:05:11.456988Z"
    },
    "papermill": {
     "duration": 0.462015,
     "end_time": "2023-02-01T14:05:11.460502",
     "exception": false,
     "start_time": "2023-02-01T14:05:10.998487",
     "status": "completed"
    },
    "tags": []
   },
   "outputs": [
    {
     "name": "stdout",
     "output_type": "stream",
     "text": [
      "0.9358974358974359\n"
     ]
    },
    {
     "data": {
      "text/plain": [
       "<AxesSubplot:xlabel='Predicted', ylabel='Actual'>"
      ]
     },
     "execution_count": 22,
     "metadata": {},
     "output_type": "execute_result"
    },
    {
     "data": {
      "image/png": "[encoded data removed]",
      "text/plain": [
       "<Figure size 432x288 with 2 Axes>"
      ]
     },
     "metadata": {
      "needs_background": "light"
     },
     "output_type": "display_data"
    }
   ],
   "source": [
    "from sklearn.linear_model import LogisticRegression\n",
    "log_clf=LogisticRegression(random_state=0)\n",
    "#Train the model\n",
    "log_clf.fit(x_train,y_train)\n",
    "#Test it using the test dataset\n",
    "y_pred1=log_clf.predict(x_test)\n",
    "\n",
    "#Model Evaluation\n",
    "print(accuracy_score(y_test,y_pred1))\n",
    "confusion_matrix=pd.crosstab(y_test,y_pred1,rownames=['Actual'],colnames=['Predicted'])\n",
    "sn.heatmap(confusion_matrix,annot=True)"
   ]
  },
  {
   "cell_type": "markdown",
   "id": "8f5ccce9",
   "metadata": {
    "papermill": {
     "duration": 0.015787,
     "end_time": "2023-02-01T14:05:11.492845",
     "exception": false,
     "start_time": "2023-02-01T14:05:11.477058",
     "status": "completed"
    },
    "tags": []
   },
   "source": [
    "# KNeighbors Classifier"
   ]
  },
  {
   "cell_type": "code",
   "execution_count": 23,
   "id": "1791373b",
   "metadata": {
    "execution": {
     "iopub.execute_input": "2023-02-01T14:05:11.527334Z",
     "iopub.status.busy": "2023-02-01T14:05:11.526102Z",
     "iopub.status.idle": "2023-02-01T14:05:11.867971Z",
     "shell.execute_reply": "2023-02-01T14:05:11.866668Z"
    },
    "papermill": {
     "duration": 0.36237,
     "end_time": "2023-02-01T14:05:11.871148",
     "exception": false,
     "start_time": "2023-02-01T14:05:11.508778",
     "status": "completed"
    },
    "tags": []
   },
   "outputs": [
    {
     "name": "stdout",
     "output_type": "stream",
     "text": [
      "0.9615384615384616\n"
     ]
    },
    {
     "data": {
      "text/plain": [
       "<AxesSubplot:xlabel='Predicted', ylabel='Actual'>"
      ]
     },
     "execution_count": 23,
     "metadata": {},
     "output_type": "execute_result"
    },
    {
     "data": {
      "image/png": "[encoded data removed]",
      "text/plain": [
       "<Figure size 432x288 with 2 Axes>"
      ]
     },
     "metadata": {
      "needs_background": "light"
     },
     "output_type": "display_data"
    }
   ],
   "source": [
    "from sklearn.neighbors import KNeighborsClassifier\n",
    "knn_clf=KNeighborsClassifier(n_neighbors=5,p=1)\n",
    "knn_clf.fit(x_train,y_train)\n",
    "y_pred2=knn_clf.predict(x_test)\n",
    "\n",
    "print(accuracy_score(y_test,y_pred2))\n",
    "confusion_matrix=pd.crosstab(y_test,y_pred2,rownames=['Actual'],colnames=['Predicted'])\n",
    "sn.heatmap(confusion_matrix,annot=True)"
   ]
  },
  {
   "cell_type": "markdown",
   "id": "e54ff7e6",
   "metadata": {
    "papermill": {
     "duration": 0.016597,
     "end_time": "2023-02-01T14:05:11.905317",
     "exception": false,
     "start_time": "2023-02-01T14:05:11.888720",
     "status": "completed"
    },
    "tags": []
   },
   "source": [
    "# SVM"
   ]
  },
  {
   "cell_type": "code",
   "execution_count": 24,
   "id": "c8e86a64",
   "metadata": {
    "execution": {
     "iopub.execute_input": "2023-02-01T14:05:11.941354Z",
     "iopub.status.busy": "2023-02-01T14:05:11.940921Z",
     "iopub.status.idle": "2023-02-01T14:05:12.208764Z",
     "shell.execute_reply": "2023-02-01T14:05:12.207148Z"
    },
    "papermill": {
     "duration": 0.288796,
     "end_time": "2023-02-01T14:05:12.211429",
     "exception": false,
     "start_time": "2023-02-01T14:05:11.922633",
     "status": "completed"
    },
    "tags": []
   },
   "outputs": [
    {
     "name": "stdout",
     "output_type": "stream",
     "text": [
      "0.9358974358974359\n"
     ]
    },
    {
     "data": {
      "text/plain": [
       "<AxesSubplot:xlabel='Predicted', ylabel='Actual'>"
      ]
     },
     "execution_count": 24,
     "metadata": {},
     "output_type": "execute_result"
    },
    {
     "data": {
      "image/png": "[encoded data removed]",
      "text/plain": [
       "<Figure size 432x288 with 2 Axes>"
      ]
     },
     "metadata": {
      "needs_background": "light"
     },
     "output_type": "display_data"
    }
   ],
   "source": [
    "from sklearn.svm import SVC\n",
    "svc_clf=SVC(kernel='linear',random_state=0)\n",
    "svc_clf.fit(x_train,y_train)\n",
    "y_pred3=svc_clf.predict(x_test)\n",
    "\n",
    "print(accuracy_score(y_test,y_pred3))\n",
    "confusion_matrix=pd.crosstab(y_test,y_pred3,rownames=['Actual'],colnames=['Predicted'])\n",
    "sn.heatmap(confusion_matrix,annot=True)"
   ]
  },
  {
   "cell_type": "markdown",
   "id": "42a32837",
   "metadata": {
    "papermill": {
     "duration": 0.017772,
     "end_time": "2023-02-01T14:05:12.247276",
     "exception": false,
     "start_time": "2023-02-01T14:05:12.229504",
     "status": "completed"
    },
    "tags": []
   },
   "source": [
    "# Kernel SVM"
   ]
  },
  {
   "cell_type": "code",
   "execution_count": 25,
   "id": "d1d644e7",
   "metadata": {
    "execution": {
     "iopub.execute_input": "2023-02-01T14:05:12.283888Z",
     "iopub.status.busy": "2023-02-01T14:05:12.283449Z",
     "iopub.status.idle": "2023-02-01T14:05:12.747459Z",
     "shell.execute_reply": "2023-02-01T14:05:12.746190Z"
    },
    "papermill": {
     "duration": 0.486157,
     "end_time": "2023-02-01T14:05:12.750320",
     "exception": false,
     "start_time": "2023-02-01T14:05:12.264163",
     "status": "completed"
    },
    "tags": []
   },
   "outputs": [
    {
     "name": "stdout",
     "output_type": "stream",
     "text": [
      "0.9358974358974359\n"
     ]
    },
    {
     "data": {
      "text/plain": [
       "<AxesSubplot:xlabel='Predicted', ylabel='Actual'>"
      ]
     },
     "execution_count": 25,
     "metadata": {},
     "output_type": "execute_result"
    },
    {
     "data": {
      "image/png": "[encoded data removed]",
      "text/plain": [
       "<Figure size 432x288 with 2 Axes>"
      ]
     },
     "metadata": {
      "needs_background": "light"
     },
     "output_type": "display_data"
    }
   ],
   "source": [
    "from sklearn.svm import SVC\n",
    "svc_clf1=SVC(kernel='rbf',random_state=1)\n",
    "svc_clf1.fit(x_train,y_train)\n",
    "y_pred4=svc_clf1.predict(x_test)\n",
    "\n",
    "print(accuracy_score(y_test,y_pred4))\n",
    "confusion_matrix=pd.crosstab(y_test,y_pred4,rownames=['Actual'],colnames=['Predicted'])\n",
    "sn.heatmap(confusion_matrix,annot=True)"
   ]
  },
  {
   "cell_type": "markdown",
   "id": "03777b98",
   "metadata": {
    "papermill": {
     "duration": 0.017112,
     "end_time": "2023-02-01T14:05:12.784790",
     "exception": false,
     "start_time": "2023-02-01T14:05:12.767678",
     "status": "completed"
    },
    "tags": []
   },
   "source": [
    "# Naive Bayes"
   ]
  },
  {
   "cell_type": "code",
   "execution_count": 26,
   "id": "53490283",
   "metadata": {
    "execution": {
     "iopub.execute_input": "2023-02-01T14:05:12.823063Z",
     "iopub.status.busy": "2023-02-01T14:05:12.822612Z",
     "iopub.status.idle": "2023-02-01T14:05:13.087487Z",
     "shell.execute_reply": "2023-02-01T14:05:13.086170Z"
    },
    "papermill": {
     "duration": 0.287564,
     "end_time": "2023-02-01T14:05:13.090091",
     "exception": false,
     "start_time": "2023-02-01T14:05:12.802527",
     "status": "completed"
    },
    "tags": []
   },
   "outputs": [
    {
     "name": "stdout",
     "output_type": "stream",
     "text": [
      "0.9102564102564102\n"
     ]
    },
    {
     "data": {
      "text/plain": [
       "<AxesSubplot:xlabel='Predicted', ylabel='Actual'>"
      ]
     },
     "execution_count": 26,
     "metadata": {},
     "output_type": "execute_result"
    },
    {
     "data": {
      "image/png": "[encoded data removed]",
      "text/plain": [
       "<Figure size 432x288 with 2 Axes>"
      ]
     },
     "metadata": {
      "needs_background": "light"
     },
     "output_type": "display_data"
    }
   ],
   "source": [
    "from sklearn.naive_bayes import GaussianNB\n",
    "nb_clf=GaussianNB()\n",
    "nb_clf.fit(x_train,y_train)\n",
    "y_pred5=nb_clf.predict(x_test)\n",
    "\n",
    "print(accuracy_score(y_test,y_pred5))\n",
    "confusion_matrix=pd.crosstab(y_test,y_pred5,rownames=['Actual'],colnames=['Predicted'])\n",
    "sn.heatmap(confusion_matrix,annot=True)"
   ]
  },
  {
   "cell_type": "markdown",
   "id": "5008c18c",
   "metadata": {
    "papermill": {
     "duration": 0.017272,
     "end_time": "2023-02-01T14:05:13.125334",
     "exception": false,
     "start_time": "2023-02-01T14:05:13.108062",
     "status": "completed"
    },
    "tags": []
   },
   "source": [
    "# Decision Tree"
   ]
  },
  {
   "cell_type": "code",
   "execution_count": 27,
   "id": "b3eab9cd",
   "metadata": {
    "execution": {
     "iopub.execute_input": "2023-02-01T14:05:13.162892Z",
     "iopub.status.busy": "2023-02-01T14:05:13.162232Z",
     "iopub.status.idle": "2023-02-01T14:05:13.448180Z",
     "shell.execute_reply": "2023-02-01T14:05:13.447300Z"
    },
    "papermill": {
     "duration": 0.307649,
     "end_time": "2023-02-01T14:05:13.450668",
     "exception": false,
     "start_time": "2023-02-01T14:05:13.143019",
     "status": "completed"
    },
    "tags": []
   },
   "outputs": [
    {
     "name": "stdout",
     "output_type": "stream",
     "text": [
      "0.9102564102564102\n"
     ]
    },
    {
     "data": {
      "text/plain": [
       "<AxesSubplot:xlabel='Predicted', ylabel='Actual'>"
      ]
     },
     "execution_count": 27,
     "metadata": {},
     "output_type": "execute_result"
    },
    {
     "data": {
      "image/png": "[encoded data removed]",
      "text/plain": [
       "<Figure size 432x288 with 2 Axes>"
      ]
     },
     "metadata": {
      "needs_background": "light"
     },
     "output_type": "display_data"
    }
   ],
   "source": [
    "from sklearn.tree import DecisionTreeClassifier\n",
    "dtc_clf=DecisionTreeClassifier(criterion='gini',random_state=0)\n",
    "dtc_clf.fit(x_train,y_train)\n",
    "y_pred6=dtc_clf.predict(x_test)\n",
    "\n",
    "print(accuracy_score(y_test,y_pred6))\n",
    "confusion_matrix=pd.crosstab(y_test,y_pred6,rownames=['Actual'],colnames=['Predicted'])\n",
    "sn.heatmap(confusion_matrix,annot=True)"
   ]
  },
  {
   "cell_type": "markdown",
   "id": "d99a379f",
   "metadata": {
    "papermill": {
     "duration": 0.018481,
     "end_time": "2023-02-01T14:05:13.487346",
     "exception": false,
     "start_time": "2023-02-01T14:05:13.468865",
     "status": "completed"
    },
    "tags": []
   },
   "source": [
    "# Random Forest"
   ]
  },
  {
   "cell_type": "code",
   "execution_count": 28,
   "id": "6e2cd420",
   "metadata": {
    "execution": {
     "iopub.execute_input": "2023-02-01T14:05:13.526124Z",
     "iopub.status.busy": "2023-02-01T14:05:13.525364Z",
     "iopub.status.idle": "2023-02-01T14:05:13.871876Z",
     "shell.execute_reply": "2023-02-01T14:05:13.870814Z"
    },
    "papermill": {
     "duration": 0.369177,
     "end_time": "2023-02-01T14:05:13.874353",
     "exception": false,
     "start_time": "2023-02-01T14:05:13.505176",
     "status": "completed"
    },
    "tags": []
   },
   "outputs": [
    {
     "name": "stdout",
     "output_type": "stream",
     "text": [
      "0.9358974358974359\n"
     ]
    },
    {
     "data": {
      "text/plain": [
       "<AxesSubplot:xlabel='Predicted', ylabel='Actual'>"
      ]
     },
     "execution_count": 28,
     "metadata": {},
     "output_type": "execute_result"
    },
    {
     "data": {
      "image/png": "[encoded data removed]",
      "text/plain": [
       "<Figure size 432x288 with 2 Axes>"
      ]
     },
     "metadata": {
      "needs_background": "light"
     },
     "output_type": "display_data"
    }
   ],
   "source": [
    "from sklearn.ensemble import RandomForestClassifier\n",
    "rand_clf=RandomForestClassifier(n_estimators=10,criterion='entropy',random_state=2)\n",
    "rand_clf.fit(x_train,y_train)\n",
    "y_pred7=rand_clf.predict(x_test)\n",
    "\n",
    "print(accuracy_score(y_test,y_pred7))\n",
    "confusion_matrix=pd.crosstab(y_test,y_pred7,rownames=['Actual'],colnames=['Predicted'])\n",
    "sn.heatmap(confusion_matrix,annot=True)"
   ]
  },
  {
   "cell_type": "markdown",
   "id": "40ee037d",
   "metadata": {
    "papermill": {
     "duration": 0.019334,
     "end_time": "2023-02-01T14:05:13.912469",
     "exception": false,
     "start_time": "2023-02-01T14:05:13.893135",
     "status": "completed"
    },
    "tags": []
   },
   "source": [
    "# Competition Prediction"
   ]
  },
  {
   "cell_type": "code",
   "execution_count": 29,
   "id": "82235945",
   "metadata": {
    "execution": {
     "iopub.execute_input": "2023-02-01T14:05:13.954276Z",
     "iopub.status.busy": "2023-02-01T14:05:13.953820Z",
     "iopub.status.idle": "2023-02-01T14:05:14.008192Z",
     "shell.execute_reply": "2023-02-01T14:05:14.007189Z"
    },
    "papermill": {
     "duration": 0.079861,
     "end_time": "2023-02-01T14:05:14.011796",
     "exception": false,
     "start_time": "2023-02-01T14:05:13.931935",
     "status": "completed"
    },
    "tags": []
   },
   "outputs": [
    {
     "data": {
      "text/html": [
       "<div>\n",
       "<style scoped>\n",
       "    .dataframe tbody tr th:only-of-type {\n",
       "        vertical-align: middle;\n",
       "    }\n",
       "\n",
       "    .dataframe tbody tr th {\n",
       "        vertical-align: top;\n",
       "    }\n",
       "\n",
       "    .dataframe thead th {\n",
       "        text-align: right;\n",
       "    }\n",
       "</style>\n",
       "<table border=\"1\" class=\"dataframe\">\n",
       "  <thead>\n",
       "    <tr style=\"text-align: right;\">\n",
       "      <th></th>\n",
       "      <th>id</th>\n",
       "      <th>radius_mean</th>\n",
       "      <th>texture_mean</th>\n",
       "      <th>perimeter_mean</th>\n",
       "      <th>area_mean</th>\n",
       "      <th>smoothness_mean</th>\n",
       "      <th>compactness_mean</th>\n",
       "      <th>concavity_mean</th>\n",
       "      <th>concave points_mean</th>\n",
       "      <th>symmetry_mean</th>\n",
       "      <th>...</th>\n",
       "      <th>radius_worst</th>\n",
       "      <th>texture_worst</th>\n",
       "      <th>perimeter_worst</th>\n",
       "      <th>area_worst</th>\n",
       "      <th>smoothness_worst</th>\n",
       "      <th>compactness_worst</th>\n",
       "      <th>concavity_worst</th>\n",
       "      <th>concave points_worst</th>\n",
       "      <th>symmetry_worst</th>\n",
       "      <th>fractal_dimension_worst</th>\n",
       "    </tr>\n",
       "  </thead>\n",
       "  <tbody>\n",
       "    <tr>\n",
       "      <th>0</th>\n",
       "      <td>90312</td>\n",
       "      <td>19.550</td>\n",
       "      <td>23.21</td>\n",
       "      <td>128.90</td>\n",
       "      <td>1174.0</td>\n",
       "      <td>0.10100</td>\n",
       "      <td>0.13180</td>\n",
       "      <td>0.18560</td>\n",
       "      <td>0.10210</td>\n",
       "      <td>0.1989</td>\n",
       "      <td>...</td>\n",
       "      <td>20.820</td>\n",
       "      <td>30.44</td>\n",
       "      <td>142.00</td>\n",
       "      <td>1313.0</td>\n",
       "      <td>0.12510</td>\n",
       "      <td>0.24140</td>\n",
       "      <td>0.38290</td>\n",
       "      <td>0.18250</td>\n",
       "      <td>0.2576</td>\n",
       "      <td>0.07602</td>\n",
       "    </tr>\n",
       "    <tr>\n",
       "      <th>1</th>\n",
       "      <td>90317302</td>\n",
       "      <td>10.260</td>\n",
       "      <td>12.22</td>\n",
       "      <td>65.75</td>\n",
       "      <td>321.6</td>\n",
       "      <td>0.09996</td>\n",
       "      <td>0.07542</td>\n",
       "      <td>0.01923</td>\n",
       "      <td>0.01968</td>\n",
       "      <td>0.1800</td>\n",
       "      <td>...</td>\n",
       "      <td>11.380</td>\n",
       "      <td>15.65</td>\n",
       "      <td>73.23</td>\n",
       "      <td>394.5</td>\n",
       "      <td>0.13430</td>\n",
       "      <td>0.16500</td>\n",
       "      <td>0.08615</td>\n",
       "      <td>0.06696</td>\n",
       "      <td>0.2937</td>\n",
       "      <td>0.07722</td>\n",
       "    </tr>\n",
       "    <tr>\n",
       "      <th>2</th>\n",
       "      <td>903483</td>\n",
       "      <td>8.734</td>\n",
       "      <td>16.84</td>\n",
       "      <td>55.27</td>\n",
       "      <td>234.3</td>\n",
       "      <td>0.10390</td>\n",
       "      <td>0.07428</td>\n",
       "      <td>0.00000</td>\n",
       "      <td>0.00000</td>\n",
       "      <td>0.1985</td>\n",
       "      <td>...</td>\n",
       "      <td>10.170</td>\n",
       "      <td>22.80</td>\n",
       "      <td>64.01</td>\n",
       "      <td>317.0</td>\n",
       "      <td>0.14600</td>\n",
       "      <td>0.13100</td>\n",
       "      <td>0.00000</td>\n",
       "      <td>0.00000</td>\n",
       "      <td>0.2445</td>\n",
       "      <td>0.08865</td>\n",
       "    </tr>\n",
       "    <tr>\n",
       "      <th>3</th>\n",
       "      <td>903507</td>\n",
       "      <td>15.490</td>\n",
       "      <td>19.97</td>\n",
       "      <td>102.40</td>\n",
       "      <td>744.7</td>\n",
       "      <td>0.11600</td>\n",
       "      <td>0.15620</td>\n",
       "      <td>0.18910</td>\n",
       "      <td>0.09113</td>\n",
       "      <td>0.1929</td>\n",
       "      <td>...</td>\n",
       "      <td>21.200</td>\n",
       "      <td>29.41</td>\n",
       "      <td>142.10</td>\n",
       "      <td>1359.0</td>\n",
       "      <td>0.16810</td>\n",
       "      <td>0.39130</td>\n",
       "      <td>0.55530</td>\n",
       "      <td>0.21210</td>\n",
       "      <td>0.3187</td>\n",
       "      <td>0.10190</td>\n",
       "    </tr>\n",
       "    <tr>\n",
       "      <th>4</th>\n",
       "      <td>903516</td>\n",
       "      <td>21.610</td>\n",
       "      <td>22.28</td>\n",
       "      <td>144.40</td>\n",
       "      <td>1407.0</td>\n",
       "      <td>0.11670</td>\n",
       "      <td>0.20870</td>\n",
       "      <td>0.28100</td>\n",
       "      <td>0.15620</td>\n",
       "      <td>0.2162</td>\n",
       "      <td>...</td>\n",
       "      <td>26.230</td>\n",
       "      <td>28.74</td>\n",
       "      <td>172.00</td>\n",
       "      <td>2081.0</td>\n",
       "      <td>0.15020</td>\n",
       "      <td>0.57170</td>\n",
       "      <td>0.70530</td>\n",
       "      <td>0.24220</td>\n",
       "      <td>0.3828</td>\n",
       "      <td>0.10070</td>\n",
       "    </tr>\n",
       "    <tr>\n",
       "      <th>...</th>\n",
       "      <td>...</td>\n",
       "      <td>...</td>\n",
       "      <td>...</td>\n",
       "      <td>...</td>\n",
       "      <td>...</td>\n",
       "      <td>...</td>\n",
       "      <td>...</td>\n",
       "      <td>...</td>\n",
       "      <td>...</td>\n",
       "      <td>...</td>\n",
       "      <td>...</td>\n",
       "      <td>...</td>\n",
       "      <td>...</td>\n",
       "      <td>...</td>\n",
       "      <td>...</td>\n",
       "      <td>...</td>\n",
       "      <td>...</td>\n",
       "      <td>...</td>\n",
       "      <td>...</td>\n",
       "      <td>...</td>\n",
       "      <td>...</td>\n",
       "    </tr>\n",
       "    <tr>\n",
       "      <th>175</th>\n",
       "      <td>926424</td>\n",
       "      <td>21.560</td>\n",
       "      <td>22.39</td>\n",
       "      <td>142.00</td>\n",
       "      <td>1479.0</td>\n",
       "      <td>0.11100</td>\n",
       "      <td>0.11590</td>\n",
       "      <td>0.24390</td>\n",
       "      <td>0.13890</td>\n",
       "      <td>0.1726</td>\n",
       "      <td>...</td>\n",
       "      <td>25.450</td>\n",
       "      <td>26.40</td>\n",
       "      <td>166.10</td>\n",
       "      <td>2027.0</td>\n",
       "      <td>0.14100</td>\n",
       "      <td>0.21130</td>\n",
       "      <td>0.41070</td>\n",
       "      <td>0.22160</td>\n",
       "      <td>0.2060</td>\n",
       "      <td>0.07115</td>\n",
       "    </tr>\n",
       "    <tr>\n",
       "      <th>176</th>\n",
       "      <td>926682</td>\n",
       "      <td>20.130</td>\n",
       "      <td>28.25</td>\n",
       "      <td>131.20</td>\n",
       "      <td>1261.0</td>\n",
       "      <td>0.09780</td>\n",
       "      <td>0.10340</td>\n",
       "      <td>0.14400</td>\n",
       "      <td>0.09791</td>\n",
       "      <td>0.1752</td>\n",
       "      <td>...</td>\n",
       "      <td>23.690</td>\n",
       "      <td>38.25</td>\n",
       "      <td>155.00</td>\n",
       "      <td>1731.0</td>\n",
       "      <td>0.11660</td>\n",
       "      <td>0.19220</td>\n",
       "      <td>0.32150</td>\n",
       "      <td>0.16280</td>\n",
       "      <td>0.2572</td>\n",
       "      <td>0.06637</td>\n",
       "    </tr>\n",
       "    <tr>\n",
       "      <th>177</th>\n",
       "      <td>926954</td>\n",
       "      <td>16.600</td>\n",
       "      <td>28.08</td>\n",
       "      <td>108.30</td>\n",
       "      <td>858.1</td>\n",
       "      <td>0.08455</td>\n",
       "      <td>0.10230</td>\n",
       "      <td>0.09251</td>\n",
       "      <td>0.05302</td>\n",
       "      <td>0.1590</td>\n",
       "      <td>...</td>\n",
       "      <td>18.980</td>\n",
       "      <td>34.12</td>\n",
       "      <td>126.70</td>\n",
       "      <td>1124.0</td>\n",
       "      <td>0.11390</td>\n",
       "      <td>0.30940</td>\n",
       "      <td>0.34030</td>\n",
       "      <td>0.14180</td>\n",
       "      <td>0.2218</td>\n",
       "      <td>0.07820</td>\n",
       "    </tr>\n",
       "    <tr>\n",
       "      <th>178</th>\n",
       "      <td>927241</td>\n",
       "      <td>20.600</td>\n",
       "      <td>29.33</td>\n",
       "      <td>140.10</td>\n",
       "      <td>1265.0</td>\n",
       "      <td>0.11780</td>\n",
       "      <td>0.27700</td>\n",
       "      <td>0.35140</td>\n",
       "      <td>0.15200</td>\n",
       "      <td>0.2397</td>\n",
       "      <td>...</td>\n",
       "      <td>25.740</td>\n",
       "      <td>39.42</td>\n",
       "      <td>184.60</td>\n",
       "      <td>1821.0</td>\n",
       "      <td>0.16500</td>\n",
       "      <td>0.86810</td>\n",
       "      <td>0.93870</td>\n",
       "      <td>0.26500</td>\n",
       "      <td>0.4087</td>\n",
       "      <td>0.12400</td>\n",
       "    </tr>\n",
       "    <tr>\n",
       "      <th>179</th>\n",
       "      <td>92751</td>\n",
       "      <td>7.760</td>\n",
       "      <td>24.54</td>\n",
       "      <td>47.92</td>\n",
       "      <td>181.0</td>\n",
       "      <td>0.05263</td>\n",
       "      <td>0.04362</td>\n",
       "      <td>0.00000</td>\n",
       "      <td>0.00000</td>\n",
       "      <td>0.1587</td>\n",
       "      <td>...</td>\n",
       "      <td>9.456</td>\n",
       "      <td>30.37</td>\n",
       "      <td>59.16</td>\n",
       "      <td>268.6</td>\n",
       "      <td>0.08996</td>\n",
       "      <td>0.06444</td>\n",
       "      <td>0.00000</td>\n",
       "      <td>0.00000</td>\n",
       "      <td>0.2871</td>\n",
       "      <td>0.07039</td>\n",
       "    </tr>\n",
       "  </tbody>\n",
       "</table>\n",
       "<p>180 rows × 31 columns</p>\n",
       "</div>"
      ],
      "text/plain": [
       "           id  radius_mean  texture_mean  perimeter_mean  area_mean  \\\n",
       "0       90312       19.550         23.21          128.90     1174.0   \n",
       "1    90317302       10.260         12.22           65.75      321.6   \n",
       "2      903483        8.734         16.84           55.27      234.3   \n",
       "3      903507       15.490         19.97          102.40      744.7   \n",
       "4      903516       21.610         22.28          144.40     1407.0   \n",
       "..        ...          ...           ...             ...        ...   \n",
       "175    926424       21.560         22.39          142.00     1479.0   \n",
       "176    926682       20.130         28.25          131.20     1261.0   \n",
       "177    926954       16.600         28.08          108.30      858.1   \n",
       "178    927241       20.600         29.33          140.10     1265.0   \n",
       "179     92751        7.760         24.54           47.92      181.0   \n",
       "\n",
       "     smoothness_mean  compactness_mean  concavity_mean  concave points_mean  \\\n",
       "0            0.10100           0.13180         0.18560              0.10210   \n",
       "1            0.09996           0.07542         0.01923              0.01968   \n",
       "2            0.10390           0.07428         0.00000              0.00000   \n",
       "3            0.11600           0.15620         0.18910              0.09113   \n",
       "4            0.11670           0.20870         0.28100              0.15620   \n",
       "..               ...               ...             ...                  ...   \n",
       "175          0.11100           0.11590         0.24390              0.13890   \n",
       "176          0.09780           0.10340         0.14400              0.09791   \n",
       "177          0.08455           0.10230         0.09251              0.05302   \n",
       "178          0.11780           0.27700         0.35140              0.15200   \n",
       "179          0.05263           0.04362         0.00000              0.00000   \n",
       "\n",
       "     symmetry_mean  ...  radius_worst  texture_worst  perimeter_worst  \\\n",
       "0           0.1989  ...        20.820          30.44           142.00   \n",
       "1           0.1800  ...        11.380          15.65            73.23   \n",
       "2           0.1985  ...        10.170          22.80            64.01   \n",
       "3           0.1929  ...        21.200          29.41           142.10   \n",
       "4           0.2162  ...        26.230          28.74           172.00   \n",
       "..             ...  ...           ...            ...              ...   \n",
       "175         0.1726  ...        25.450          26.40           166.10   \n",
       "176         0.1752  ...        23.690          38.25           155.00   \n",
       "177         0.1590  ...        18.980          34.12           126.70   \n",
       "178         0.2397  ...        25.740          39.42           184.60   \n",
       "179         0.1587  ...         9.456          30.37            59.16   \n",
       "\n",
       "     area_worst  smoothness_worst  compactness_worst  concavity_worst  \\\n",
       "0        1313.0           0.12510            0.24140          0.38290   \n",
       "1         394.5           0.13430            0.16500          0.08615   \n",
       "2         317.0           0.14600            0.13100          0.00000   \n",
       "3        1359.0           0.16810            0.39130          0.55530   \n",
       "4        2081.0           0.15020            0.57170          0.70530   \n",
       "..          ...               ...                ...              ...   \n",
       "175      2027.0           0.14100            0.21130          0.41070   \n",
       "176      1731.0           0.11660            0.19220          0.32150   \n",
       "177      1124.0           0.11390            0.30940          0.34030   \n",
       "178      1821.0           0.16500            0.86810          0.93870   \n",
       "179       268.6           0.08996            0.06444          0.00000   \n",
       "\n",
       "     concave points_worst  symmetry_worst  fractal_dimension_worst  \n",
       "0                 0.18250          0.2576                  0.07602  \n",
       "1                 0.06696          0.2937                  0.07722  \n",
       "2                 0.00000          0.2445                  0.08865  \n",
       "3                 0.21210          0.3187                  0.10190  \n",
       "4                 0.24220          0.3828                  0.10070  \n",
       "..                    ...             ...                      ...  \n",
       "175               0.22160          0.2060                  0.07115  \n",
       "176               0.16280          0.2572                  0.06637  \n",
       "177               0.14180          0.2218                  0.07820  \n",
       "178               0.26500          0.4087                  0.12400  \n",
       "179               0.00000          0.2871                  0.07039  \n",
       "\n",
       "[180 rows x 31 columns]"
      ]
     },
     "execution_count": 29,
     "metadata": {},
     "output_type": "execute_result"
    }
   ],
   "source": [
    "#import dataset\n",
    "df_train['diagnosis']=df_train['diagnosis'].map({1:'B',0:'M'})\n",
    "df_test=pd.read_csv(\"/kaggle/input/tfug-prayagraj-breast-cancer-diagnostic/test.csv\")\n",
    "df_test"
   ]
  },
  {
   "cell_type": "markdown",
   "id": "c083a066",
   "metadata": {
    "papermill": {
     "duration": 0.02547,
     "end_time": "2023-02-01T14:05:14.063561",
     "exception": false,
     "start_time": "2023-02-01T14:05:14.038091",
     "status": "completed"
    },
    "tags": []
   },
   "source": [
    "Let's check how many NaN values for test dataset"
   ]
  },
  {
   "cell_type": "code",
   "execution_count": 30,
   "id": "2567fbda",
   "metadata": {
    "execution": {
     "iopub.execute_input": "2023-02-01T14:05:14.109055Z",
     "iopub.status.busy": "2023-02-01T14:05:14.107957Z",
     "iopub.status.idle": "2023-02-01T14:05:14.118820Z",
     "shell.execute_reply": "2023-02-01T14:05:14.117561Z"
    },
    "papermill": {
     "duration": 0.034673,
     "end_time": "2023-02-01T14:05:14.121632",
     "exception": false,
     "start_time": "2023-02-01T14:05:14.086959",
     "status": "completed"
    },
    "tags": []
   },
   "outputs": [
    {
     "data": {
      "text/plain": [
       "id                         0\n",
       "radius_mean                0\n",
       "texture_mean               0\n",
       "perimeter_mean             0\n",
       "area_mean                  0\n",
       "smoothness_mean            0\n",
       "compactness_mean           0\n",
       "concavity_mean             0\n",
       "concave points_mean        0\n",
       "symmetry_mean              0\n",
       "fractal_dimension_mean     0\n",
       "radius_se                  0\n",
       "texture_se                 0\n",
       "perimeter_se               0\n",
       "area_se                    0\n",
       "smoothness_se              0\n",
       "compactness_se             0\n",
       "concavity_se               0\n",
       "concave points_se          0\n",
       "symmetry_se                0\n",
       "fractal_dimension_se       0\n",
       "radius_worst               0\n",
       "texture_worst              0\n",
       "perimeter_worst            0\n",
       "area_worst                 0\n",
       "smoothness_worst           0\n",
       "compactness_worst          0\n",
       "concavity_worst            0\n",
       "concave points_worst       0\n",
       "symmetry_worst             0\n",
       "fractal_dimension_worst    0\n",
       "dtype: int64"
      ]
     },
     "execution_count": 30,
     "metadata": {},
     "output_type": "execute_result"
    }
   ],
   "source": [
    "df_test.isnull().sum()"
   ]
  },
  {
   "cell_type": "code",
   "execution_count": 31,
   "id": "d529cab6",
   "metadata": {
    "execution": {
     "iopub.execute_input": "2023-02-01T14:05:14.164124Z",
     "iopub.status.busy": "2023-02-01T14:05:14.162774Z",
     "iopub.status.idle": "2023-02-01T14:05:14.172951Z",
     "shell.execute_reply": "2023-02-01T14:05:14.171734Z"
    },
    "papermill": {
     "duration": 0.033337,
     "end_time": "2023-02-01T14:05:14.175743",
     "exception": false,
     "start_time": "2023-02-01T14:05:14.142406",
     "status": "completed"
    },
    "tags": []
   },
   "outputs": [],
   "source": [
    "pred=knn_clf.predict(x_test)"
   ]
  },
  {
   "cell_type": "code",
   "execution_count": 32,
   "id": "19a6e9b4",
   "metadata": {
    "execution": {
     "iopub.execute_input": "2023-02-01T14:05:14.217291Z",
     "iopub.status.busy": "2023-02-01T14:05:14.216030Z",
     "iopub.status.idle": "2023-02-01T14:05:14.224021Z",
     "shell.execute_reply": "2023-02-01T14:05:14.223095Z"
    },
    "papermill": {
     "duration": 0.031105,
     "end_time": "2023-02-01T14:05:14.226265",
     "exception": false,
     "start_time": "2023-02-01T14:05:14.195160",
     "status": "completed"
    },
    "tags": []
   },
   "outputs": [
    {
     "data": {
      "text/plain": [
       "Index(['id', 'radius_mean', 'texture_mean', 'perimeter_mean', 'area_mean',\n",
       "       'smoothness_mean', 'compactness_mean', 'concavity_mean',\n",
       "       'concave points_mean', 'symmetry_mean', 'fractal_dimension_mean',\n",
       "       'radius_se', 'texture_se', 'perimeter_se', 'area_se', 'smoothness_se',\n",
       "       'compactness_se', 'concavity_se', 'concave points_se', 'symmetry_se',\n",
       "       'fractal_dimension_se', 'radius_worst', 'texture_worst',\n",
       "       'perimeter_worst', 'area_worst', 'smoothness_worst',\n",
       "       'compactness_worst', 'concavity_worst', 'concave points_worst',\n",
       "       'symmetry_worst', 'fractal_dimension_worst'],\n",
       "      dtype='object')"
      ]
     },
     "execution_count": 32,
     "metadata": {},
     "output_type": "execute_result"
    }
   ],
   "source": [
    "df_test.columns"
   ]
  },
  {
   "cell_type": "code",
   "execution_count": 33,
   "id": "c037f43e",
   "metadata": {
    "execution": {
     "iopub.execute_input": "2023-02-01T14:05:14.268579Z",
     "iopub.status.busy": "2023-02-01T14:05:14.267881Z",
     "iopub.status.idle": "2023-02-01T14:05:14.283202Z",
     "shell.execute_reply": "2023-02-01T14:05:14.281380Z"
    },
    "papermill": {
     "duration": 0.041008,
     "end_time": "2023-02-01T14:05:14.287208",
     "exception": false,
     "start_time": "2023-02-01T14:05:14.246200",
     "status": "completed"
    },
    "tags": []
   },
   "outputs": [
    {
     "name": "stdout",
     "output_type": "stream",
     "text": [
      "180\n"
     ]
    }
   ],
   "source": [
    "x_test_data=df_test.values\n",
    "output=knn_clf.predict(x_test_data)\n",
    "print(len(output))"
   ]
  },
  {
   "cell_type": "code",
   "execution_count": 34,
   "id": "08a06c72",
   "metadata": {
    "execution": {
     "iopub.execute_input": "2023-02-01T14:05:14.330065Z",
     "iopub.status.busy": "2023-02-01T14:05:14.329601Z",
     "iopub.status.idle": "2023-02-01T14:05:14.342079Z",
     "shell.execute_reply": "2023-02-01T14:05:14.341243Z"
    },
    "papermill": {
     "duration": 0.036181,
     "end_time": "2023-02-01T14:05:14.344394",
     "exception": false,
     "start_time": "2023-02-01T14:05:14.308213",
     "status": "completed"
    },
    "tags": []
   },
   "outputs": [
    {
     "data": {
      "text/html": [
       "<div>\n",
       "<style scoped>\n",
       "    .dataframe tbody tr th:only-of-type {\n",
       "        vertical-align: middle;\n",
       "    }\n",
       "\n",
       "    .dataframe tbody tr th {\n",
       "        vertical-align: top;\n",
       "    }\n",
       "\n",
       "    .dataframe thead th {\n",
       "        text-align: right;\n",
       "    }\n",
       "</style>\n",
       "<table border=\"1\" class=\"dataframe\">\n",
       "  <thead>\n",
       "    <tr style=\"text-align: right;\">\n",
       "      <th></th>\n",
       "      <th>id</th>\n",
       "      <th>diagnosis</th>\n",
       "    </tr>\n",
       "  </thead>\n",
       "  <tbody>\n",
       "    <tr>\n",
       "      <th>0</th>\n",
       "      <td>90312</td>\n",
       "      <td>M</td>\n",
       "    </tr>\n",
       "    <tr>\n",
       "      <th>1</th>\n",
       "      <td>90317302</td>\n",
       "      <td>M</td>\n",
       "    </tr>\n",
       "    <tr>\n",
       "      <th>2</th>\n",
       "      <td>903483</td>\n",
       "      <td>M</td>\n",
       "    </tr>\n",
       "    <tr>\n",
       "      <th>3</th>\n",
       "      <td>903507</td>\n",
       "      <td>M</td>\n",
       "    </tr>\n",
       "    <tr>\n",
       "      <th>4</th>\n",
       "      <td>903516</td>\n",
       "      <td>M</td>\n",
       "    </tr>\n",
       "  </tbody>\n",
       "</table>\n",
       "</div>"
      ],
      "text/plain": [
       "         id diagnosis\n",
       "0     90312         M\n",
       "1  90317302         M\n",
       "2    903483         M\n",
       "3    903507         M\n",
       "4    903516         M"
      ]
     },
     "execution_count": 34,
     "metadata": {},
     "output_type": "execute_result"
    }
   ],
   "source": [
    "my_submission=pd.DataFrame({'id':df_test['id'],'diagnosis':output})\n",
    "my_submission['diagnosis']=my_submission['diagnosis'].map({1:'B',0:'M'})\n",
    "my_submission.head()"
   ]
  },
  {
   "cell_type": "code",
   "execution_count": 35,
   "id": "d6340927",
   "metadata": {
    "execution": {
     "iopub.execute_input": "2023-02-01T14:05:14.387977Z",
     "iopub.status.busy": "2023-02-01T14:05:14.386728Z",
     "iopub.status.idle": "2023-02-01T14:05:14.397543Z",
     "shell.execute_reply": "2023-02-01T14:05:14.396088Z"
    },
    "papermill": {
     "duration": 0.035474,
     "end_time": "2023-02-01T14:05:14.400054",
     "exception": false,
     "start_time": "2023-02-01T14:05:14.364580",
     "status": "completed"
    },
    "tags": []
   },
   "outputs": [
    {
     "name": "stdout",
     "output_type": "stream",
     "text": [
      "Saved File:ML_Olympaid_breastCancer predictions.csv\n"
     ]
    }
   ],
   "source": [
    "filename='ML_Olympaid_breastCancer predictions.csv'\n",
    "my_submission.to_csv(filename,index=False)\n",
    "print('Saved File:'+filename)"
   ]
  },
  {
   "cell_type": "code",
   "execution_count": null,
   "id": "10a23df8",
   "metadata": {
    "papermill": {
     "duration": 0.020044,
     "end_time": "2023-02-01T14:05:14.439786",
     "exception": false,
     "start_time": "2023-02-01T14:05:14.419742",
     "status": "completed"
    },
    "tags": []
   },
   "outputs": [],
   "source": []
  }
 ],
 "metadata": {
  "kernelspec": {
   "display_name": "Python 3",
   "language": "python",
   "name": "python3"
  },
  "language_info": {
   "codemirror_mode": {
    "name": "ipython",
    "version": 3
   },
   "file_extension": ".py",
   "mimetype": "text/x-python",
   "name": "python",
   "nbconvert_exporter": "python",
   "pygments_lexer": "ipython3",
   "version": "3.7.12"
  },
  "papermill": {
   "default_parameters": {},
   "duration": 20.99257,
   "end_time": "2023-02-01T14:05:15.282993",
   "environment_variables": {},
   "exception": null,
   "input_path": "__notebook__.ipynb",
   "output_path": "__notebook__.ipynb",
   "parameters": {},
   "start_time": "2023-02-01T14:04:54.290423",
   "version": "2.3.4"
  }
 },
 "nbformat": 4,
 "nbformat_minor": 5
}
